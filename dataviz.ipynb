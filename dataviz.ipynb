{
 "cells": [
  {
   "cell_type": "markdown",
   "id": "6c82c430",
   "metadata": {},
   "source": [
    "[Gantt with plotly](https://plotly.com/python/gantt/)\n",
    "* for loop on author, create additional dict\n",
    "* if author has fixed dates, one entry (param \"sure\")\n",
    "* if author has uncertain dates, one entry for uncertain birth span (param \"uncertain\"), one entry for sure life (param \"sure\"), one entry for uncertain death span (param \"uncertain\")\n",
    "* param \"sure\" = full bar - param \"uncertain\" = stripes\n",
    "* color according to total number of mentions?"
   ]
  },
  {
   "cell_type": "code",
   "execution_count": null,
   "id": "e9b2fafa",
   "metadata": {},
   "outputs": [],
   "source": []
  },
  {
   "cell_type": "code",
   "execution_count": null,
   "id": "feae3573",
   "metadata": {},
   "outputs": [],
   "source": []
  }
 ],
 "metadata": {
  "kernelspec": {
   "display_name": "Python 3 (ipykernel)",
   "language": "python",
   "name": "python3"
  },
  "language_info": {
   "codemirror_mode": {
    "name": "ipython",
    "version": 3
   },
   "file_extension": ".py",
   "mimetype": "text/x-python",
   "name": "python",
   "nbconvert_exporter": "python",
   "pygments_lexer": "ipython3",
   "version": "3.9.7"
  }
 },
 "nbformat": 4,
 "nbformat_minor": 5
}
