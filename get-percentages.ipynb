{
 "cells": [
  {
   "cell_type": "code",
   "execution_count": 1,
   "id": "3cab1cd1",
   "metadata": {},
   "outputs": [],
   "source": [
    "from tqdm.notebook import tqdm #tqdm est bibliothèque qui permet d'avoir une barre de progression\n",
    "import xml.etree.ElementTree as ET\n",
    "import csv\n",
    "import json"
   ]
  },
  {
   "cell_type": "code",
   "execution_count": 2,
   "id": "bd8a95c2",
   "metadata": {},
   "outputs": [],
   "source": [
    "\n",
    "ET.register_namespace(\"\", \"http://www.tei-c.org/ns/1.0\")\n",
    "ET.register_namespace('xml','http://www.w3.org/XML/1998/namespace')\n",
    "\n",
    "# Not all witnesses were enriched with reference identification.\n",
    "# Change paths to fit your own folder organization.\n",
    "witnesses = {\n",
    "    \"basnage\" : [1678,\"1678 - Basnage\"],\n",
    "    \"berault\" : [1614, \"1614 - Bérault\"],\n",
    "    \"merville\" : [1731,\"1731 - Merville\"],\n",
    "    \"pesnelle\" : [1771,\"1771 - Pesnelle\"],\n",
    "    \"terrien\" : [1578,\"1578 - Terrien\"]\n",
    "}\n",
    "binpath = \"/home/mpica/Progs/perso/CONDE/editions/base-version/\"\n",
    "einpath = \"_base.xml\"\n",
    "\n",
    "outpath = \"dataviz/2022-09-27/numbers.csv\""
   ]
  },
  {
   "cell_type": "code",
   "execution_count": 8,
   "id": "c624cb23",
   "metadata": {},
   "outputs": [
    {
     "name": "stdout",
     "output_type": "stream",
     "text": [
      "{'Témoin': '1678 - Basnage', 'Date': 1678, 'Total des citations': 5115, 'Nombre de tokens': 1524732, 'Citations de \"classiques\"': 496, 'Pourcentage de classiques': 9.696969696969697, 'Rapport tokens/citations classiques': 0.04105639548458352}\n",
      "{'Témoin': '1614 - Bérault', 'Date': 1614, 'Total des citations': 1673, 'Nombre de tokens': 637525, 'Citations de \"classiques\"': 160, 'Pourcentage de classiques': 9.563658099222954, 'Rapport tokens/citations classiques': 0.02807733030077252}\n",
      "{'Témoin': '1731 - Merville', 'Date': 1731, 'Total des citations': 68, 'Nombre de tokens': 564131, 'Citations de \"classiques\"': 3, 'Pourcentage de classiques': 4.411764705882353, 'Rapport tokens/citations classiques': 0.0007090551662645733}\n",
      "{'Témoin': '1771 - Pesnelle', 'Date': 1771, 'Total des citations': 3170, 'Nombre de tokens': 713652, 'Citations de \"classiques\"': 61, 'Pourcentage de classiques': 1.9242902208201893, 'Rapport tokens/citations classiques': 0.008827832052597065}\n",
      "{'Témoin': '1578 - Terrien', 'Date': 1578, 'Total des citations': 610, 'Nombre de tokens': 540938, 'Citations de \"classiques\"': 140, 'Pourcentage de classiques': 22.950819672131146, 'Rapport tokens/citations classiques': 0.031611755875904445}\n"
     ]
    }
   ],
   "source": [
    "out_dict = []\n",
    "for witness in witnesses.keys():\n",
    "    \n",
    "    wit_dict = {'Témoin' : witnesses[witness][1], 'Date' : witnesses[witness][0]}\n",
    "    \n",
    "    fullpath = binpath + witness + einpath\n",
    "    \n",
    "    authors = {}\n",
    "    \n",
    "    with open(fullpath) as xmlfile:\n",
    "        tree = ET.parse(xmlfile)\n",
    "        root = tree.getroot()\n",
    "        \n",
    "        for author in root.findall('.//{http://www.tei-c.org/ns/1.0}person'):\n",
    "            # Get <birth> element.\n",
    "            fullbirth = author.find('.//{http://www.tei-c.org/ns/1.0}birth')\n",
    "\n",
    "            try:\n",
    "                ident = \"#\" + author.get(\"{http://www.w3.org/XML/1998/namespace}id\")\n",
    "            except:\n",
    "                print(\"Weird guy here, no ID.\")\n",
    "\n",
    "            try:\n",
    "                if fullbirth.get('when') != None:\n",
    "                    authors[ident] = {'birth' : int(fullbirth.get('when')), 'count' : 0, 'tokens' : 0}\n",
    "                else:\n",
    "                    authors[ident] = {'birth' : int(fullbirth.get('notBefore')), 'count' : 0, 'tokens' : 0}\n",
    "            except:\n",
    "                authors[ident] = {'birth' : 2022, 'count' : 0, 'tokens' : 0}\n",
    "            #print(ident, authors[ident])\n",
    "        \n",
    "        wit_dict['Total des citations'] = len(root.findall('.//{http://www.tei-c.org/ns/1.0}text//{http://www.tei-c.org/ns/1.0}ref[@corresp]'))\n",
    "        wit_dict['Nombre de tokens'] = len(root.findall('.//{http://www.tei-c.org/ns/1.0}w'))\n",
    "        \n",
    "        for ref in root.findall('.//{http://www.tei-c.org/ns/1.0}text//{http://www.tei-c.org/ns/1.0}ref[@corresp]'):\n",
    "            corresp = ref.get('corresp')\n",
    "            if corresp in authors.keys():\n",
    "                authors[corresp]['count'] += 1\n",
    "                authors[corresp]['tokens'] += len(ref.findall(\".//{http://www.tei-c.org/ns/1.0}w\"))\n",
    "            else:\n",
    "                continue\n",
    "                \n",
    "                \n",
    "        classics = 0\n",
    "        clatokens = 0\n",
    "        for author in authors.keys():\n",
    "            if authors[author]['birth'] <= 560:\n",
    "                #print(author)\n",
    "                classics += authors[author]['count']\n",
    "                clatokens += authors[author]['tokens']\n",
    "                \n",
    "        wit_dict['Citations de \"classiques\"'] = classics\n",
    "        wit_dict['Pourcentage de classiques'] = wit_dict['Citations de \"classiques\"'] * 100 / wit_dict['Total des citations']\n",
    "        wit_dict['Rapport tokens/citations classiques'] = clatokens * 100 / wit_dict['Nombre de tokens']\n",
    "        \n",
    "        print(wit_dict)\n",
    "        out_dict.append(wit_dict)\n",
    "\n",
    "        \n",
    "with open('dataviz/2022-09-28/tableau-recap.csv', 'w') as csvfile:\n",
    "    csvwriting = csv.DictWriter(csvfile, fieldnames = out_dict[0].keys())\n",
    "    csvwriting.writeheader()\n",
    "    csvwriting.writerows(out_dict)"
   ]
  },
  {
   "cell_type": "code",
   "execution_count": null,
   "id": "ef770c2d",
   "metadata": {},
   "outputs": [],
   "source": []
  }
 ],
 "metadata": {
  "kernelspec": {
   "display_name": "Python 3 (ipykernel)",
   "language": "python",
   "name": "python3"
  },
  "language_info": {
   "codemirror_mode": {
    "name": "ipython",
    "version": 3
   },
   "file_extension": ".py",
   "mimetype": "text/x-python",
   "name": "python",
   "nbconvert_exporter": "python",
   "pygments_lexer": "ipython3",
   "version": "3.9.7"
  }
 },
 "nbformat": 4,
 "nbformat_minor": 5
}
