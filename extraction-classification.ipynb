{
 "cells": [
  {
   "cell_type": "markdown",
   "id": "918ca822",
   "metadata": {},
   "source": [
    "# Extraction and classification of classical references from the ConDÉ corpus\n",
    "\n",
    "Script written by Morgane Pica for a submission to the symposium [\"Lire les classiques en Normandie\"](https://rmblf.be/2022/02/04/appel-a-contribution-lire-les-classiques-en-normandie/) (oct 2022), to be written by herself and Mathieu Goux.\n",
    "\n",
    "## Imports & declarations"
   ]
  },
  {
   "cell_type": "code",
   "execution_count": 13,
   "id": "eb0b798e",
   "metadata": {},
   "outputs": [],
   "source": [
    "from tqdm.notebook import tqdm #tqdm est bibliothèque qui permet d'avoir une barre de progression\n",
    "import xml.etree.ElementTree as ET\n",
    "\n",
    "ET.register_namespace(\"\", \"http://www.tei-c.org/ns/1.0\")\n",
    "ET.register_namespace('xml','http://www.w3.org/XML/1998/namespace')\n",
    "\n",
    "# Not all witnesses were enriched with reference identification.\n",
    "witnesses = [\"basnage\",\"berault\",\"merville\",\"pesnelle\",\"terrien\"]\n",
    "binpath = \"/home/mpica/Progs/perso/CONDE/editions/base-version/\"\n",
    "einpath = \"_base.xml\"\n",
    "\n",
    "listfile = \"authors.csv\"\n",
    "tablefile = \"mentions.csv\""
   ]
  },
  {
   "cell_type": "markdown",
   "id": "a5df17d2",
   "metadata": {},
   "source": [
    "## Extract authors and store in a dictionary"
   ]
  },
  {
   "cell_type": "code",
   "execution_count": 33,
   "id": "546ed623",
   "metadata": {},
   "outputs": [
    {
     "name": "stdout",
     "output_type": "stream",
     "text": [
      "/home/mpica/Progs/perso/CONDE/editions/base-version/basnage_base.xml\n"
     ]
    },
    {
     "data": {
      "application/vnd.jupyter.widget-view+json": {
       "model_id": "dfa1c0816866491d8f28922a8a8459b6",
       "version_major": 2,
       "version_minor": 0
      },
      "text/plain": [
       "  0%|          | 0/360 [00:00<?, ?it/s]"
      ]
     },
     "metadata": {},
     "output_type": "display_data"
    },
    {
     "data": {
      "application/vnd.jupyter.widget-view+json": {
       "model_id": "1128d6ab14754ed2b67c8b9af6e04121",
       "version_major": 2,
       "version_minor": 0
      },
      "text/plain": [
       "0it [00:00, ?it/s]"
      ]
     },
     "metadata": {},
     "output_type": "display_data"
    },
    {
     "name": "stdout",
     "output_type": "stream",
     "text": [
      "/home/mpica/Progs/perso/CONDE/editions/base-version/berault_base.xml\n"
     ]
    },
    {
     "data": {
      "application/vnd.jupyter.widget-view+json": {
       "model_id": "8683d194d8e543bc88ee80688406c210",
       "version_major": 2,
       "version_minor": 0
      },
      "text/plain": [
       "  0%|          | 0/145 [00:00<?, ?it/s]"
      ]
     },
     "metadata": {},
     "output_type": "display_data"
    },
    {
     "data": {
      "application/vnd.jupyter.widget-view+json": {
       "model_id": "c2a0bbff37cb4941a3923b426a32e7c4",
       "version_major": 2,
       "version_minor": 0
      },
      "text/plain": [
       "0it [00:00, ?it/s]"
      ]
     },
     "metadata": {},
     "output_type": "display_data"
    },
    {
     "name": "stdout",
     "output_type": "stream",
     "text": [
      "/home/mpica/Progs/perso/CONDE/editions/base-version/merville_base.xml\n"
     ]
    },
    {
     "data": {
      "application/vnd.jupyter.widget-view+json": {
       "model_id": "30faeac31202459d9e9db8bc969bfcc3",
       "version_major": 2,
       "version_minor": 0
      },
      "text/plain": [
       "  0%|          | 0/38 [00:00<?, ?it/s]"
      ]
     },
     "metadata": {},
     "output_type": "display_data"
    },
    {
     "data": {
      "application/vnd.jupyter.widget-view+json": {
       "model_id": "a0707c913a6c42f68ad1e4aaf465ef4b",
       "version_major": 2,
       "version_minor": 0
      },
      "text/plain": [
       "0it [00:00, ?it/s]"
      ]
     },
     "metadata": {},
     "output_type": "display_data"
    },
    {
     "name": "stdout",
     "output_type": "stream",
     "text": [
      "/home/mpica/Progs/perso/CONDE/editions/base-version/pesnelle_base.xml\n"
     ]
    },
    {
     "data": {
      "application/vnd.jupyter.widget-view+json": {
       "model_id": "1843f06e8cd74a918cea0563e36cb546",
       "version_major": 2,
       "version_minor": 0
      },
      "text/plain": [
       "  0%|          | 0/207 [00:00<?, ?it/s]"
      ]
     },
     "metadata": {},
     "output_type": "display_data"
    },
    {
     "data": {
      "application/vnd.jupyter.widget-view+json": {
       "model_id": "c059aa8bd1b646e8ba3936e362af0831",
       "version_major": 2,
       "version_minor": 0
      },
      "text/plain": [
       "0it [00:00, ?it/s]"
      ]
     },
     "metadata": {},
     "output_type": "display_data"
    },
    {
     "name": "stdout",
     "output_type": "stream",
     "text": [
      "/home/mpica/Progs/perso/CONDE/editions/base-version/terrien_base.xml\n"
     ]
    },
    {
     "data": {
      "application/vnd.jupyter.widget-view+json": {
       "model_id": "31adcefc68e04a2d92fb78633a699c8a",
       "version_major": 2,
       "version_minor": 0
      },
      "text/plain": [
       "  0%|          | 0/92 [00:00<?, ?it/s]"
      ]
     },
     "metadata": {},
     "output_type": "display_data"
    },
    {
     "data": {
      "application/vnd.jupyter.widget-view+json": {
       "model_id": "53b2009fd98347b0b4085fc4b467bc5b",
       "version_major": 2,
       "version_minor": 0
      },
      "text/plain": [
       "0it [00:00, ?it/s]"
      ]
     },
     "metadata": {},
     "output_type": "display_data"
    },
    {
     "name": "stdout",
     "output_type": "stream",
     "text": [
      "{'pausanias': {'birth': '?0100', 'name': 'Pausanias'}, 'lampride': {'birth': '?0300', 'name': 'Lampride'}, 'bergier': {'birth': '1567', 'name': None}, 'andegav': {'birth': '1536', 'name': None}, 'connan': {'birth': '1508', 'name': None}, 'homere': {'birth': '?-0899', 'name': 'Homère'}, 'virgile': {'birth': '-0070', 'name': 'Virgile'}, 'goncanus': {'birth': 'none', 'name': 'Goncanus'}, 'bodin': {'birth': '1530', 'name': None}, 'martini': {'birth': '1614', 'name': None}, 'hotman': {'birth': '1524', 'name': None}, 'febur': {'birth': 'none', 'name': 'Febur.'}, 'bald': {'birth': '1327', 'name': 'Balde'}, 'herauld': {'birth': '1579', 'name': None}, 'pommeraye': {'birth': '1617', 'name': None}, 'caesar': {'birth': '-0100', 'name': None}, 's-germain': {'birth': '?0490', 'name': ' Germain (saint) '}, 'artemidore': {'birth': '?0100', 'name': \"Artemidore d'Éphèse\"}, 'turnebe': {'birth': '1512', 'name': None}, 'spartian': {'birth': '?0300', 'name': None}, 'const': {'birth': '0905', 'name': 'Constantin VII'}, 'pelage': {'birth': '?0500', 'name': '\\u2028Pélage Ier'}, 'acosta': {'birth': '1540', 'name': None}, 'blondus': {'birth': '1388', 'name': None}, 'gelase': {'birth': '?0400', 'name': ' Gélase Ier'}, 'vopiscus': {'birth': '?0200', 'name': None}, 'augustin': {'birth': '0354', 'name': 'Augustin (saint)'}, 'freherus': {'birth': '1565', 'name': None}, 'adrien-pape': {'birth': 'none', 'name': 'Adrien (pape) '}, 'freising': {'birth': '1112', 'name': None}, 'velserus': {'birth': '1558', 'name': None}, 'thegan': {'birth': '0800', 'name': 'Thégan'}, 'rheginon': {'birth': '0840', 'name': 'Reginon de Prüm'}, 'miraeus': {'birth': '1573', 'name': None}, 'clugny': {'birth': '0879', 'name': None}, 'modestin': {'birth': '?0200', 'name': None}, 'balsamon': {'birth': '1140', 'name': None}, 'denis-le-petit': {'birth': '0497', 'name': 'Denis le Petit'}, 'poly-vir': {'birth': '1470', 'name': None}, 'heliodore': {'birth': '?0200', 'name': 'Héliodore de Larisse'}, 'decius': {'birth': '1454', 'name': None}, 's-matthieu': {'birth': 'none', 'name': '\\u2028Matthieu (saint)\\u2028'}, 'servius': {'birth': '0363', 'name': None}, 'accurse': {'birth': '1182', 'name': 'Accurse'}, 'heytesbury': {'birth': '1313', 'name': None}, 'strabo': {'birth': '0808', 'name': None}, 'verro': {'birth': '1255', 'name': None}, 'curtius': {'birth': '?0000', 'name': '\\u2028 Quinte-Curce\\u2028 '}, 'martial': {'birth': '0040', 'name': 'Martial'}, 'rhenanus': {'birth': '1485', 'name': None}, 'saumaise': {'birth': '1588', 'name': None}, 'halic': {'birth': '?0060', 'name': \"Denis d'Halicarnasse\"}, 'begat': {'birth': '1523', 'name': None}, 'suetone': {'birth': '0069', 'name': 'Suétone'}, 'fortin': {'birth': 'none', 'name': 'Fortin'}, 'castre': {'birth': '1360', 'name': 'Paul de Castre'}, 's-paul': {'birth': '?0000', 'name': '\\u2028Paul (saint)\\u2028'}, 'leon-pape': {'birth': '?0390', 'name': ' Léon Ier'}, 'froben': {'birth': 'none', 'name': 'Froben'}, 'conte': {'birth': '1517', 'name': None}, 'ives-chartres': {'birth': '1040', 'name': 'Yves de Chartres'}, 'theophile': {'birth': '?0500', 'name': 'Théophile Antecessor'}, 'maximien': {'birth': '0250', 'name': 'Maximien'}, 'anast': {'birth': '0431', 'name': 'Anastase I'}, 'du-faur': {'birth': '1532', 'name': None}, 'fabrot': {'birth': '1580', 'name': None}, 'greg-3': {'birth': '0540', 'name': ' Grégoire III'}, 'paul-4': {'birth': '1476', 'name': 'Paul IV '}, 'cassiod': {'birth': '0490', 'name': 'Cassiodore'}, 'ptolom': {'birth': '1272', 'name': None}, 'firmicus': {'birth': '?0300', 'name': None}, 'hermogenien': {'birth': '?0200', 'name': 'Hermogénien'}, 'roche-flavin': {'birth': '1552', 'name': None}, 'othon': {'birth': '0912', 'name': 'Otton I'}, 'peleus': {'birth': '1550', 'name': None}, 'andreas': {'birth': '1275', 'name': None}, 'montholon': {'birth': 'none', 'name': 'Montholon'}, 'celse': {'birth': '?0100', 'name': 'Celse'}, 'livius': {'birth': 'none', 'name': 'Livius'}, 'avicenne': {'birth': '0980', 'name': 'Avicenne'}, 'boece': {'birth': '1465', 'name': None}, 'bonneton': {'birth': 'none', 'name': 'Bonneton'}, 'ammian': {'birth': '0330', 'name': None}, 'herodote': {'birth': '-0484', 'name': 'Hérodote'}, 'bam': {'birth': 'none', 'name': 'Bam.'}, 'paulus': {'birth': '?0100', 'name': 'Paulus'}, 'zepper': {'birth': '1550', 'name': None}, 'appo': {'birth': '0431', 'name': None}, 'beaumanoir': {'birth': '1250', 'name': None}, 'imbert': {'birth': '1522', 'name': None}, 'luca-penna': {'birth': '1305', 'name': 'Lucas de Penna'}, 'neratius': {'birth': '?0000', 'name': None}, 'lycurgue': {'birth': '-0390', 'name': 'Lycurgue'}, 'clement-1': {'birth': '?0000', 'name': 'Clément I'}, 'pompeius': {'birth': '-0075', 'name': 'Pompée'}, 'siculus': {'birth': '?0100', 'name': 'Siculus Flaccus\\xa0'}, 'amb-pare': {'birth': '1509', 'name': None}, 'appius-claudius': {'birth': '?-0399', 'name': None}, 'inno-1': {'birth': '?0300', 'name': 'Innocent I'}, 'galien': {'birth': 'none', 'name': 'Galien'}, 'barbat': {'birth': '1764', 'name': None}, 'timarchus': {'birth': 'none', 'name': 'Timarchus'}, 'martin-5': {'birth': '1368', 'name': 'Martin V'}, 'calixte-3': {'birth': '1378', 'name': 'Calixte III'}, 'jean-22': {'birth': '1245', 'name': 'Jean XXII'}, 'pomponius': {'birth': '?0100', 'name': None}, 'crinitus': {'birth': '1465', 'name': None}}\n"
     ]
    }
   ],
   "source": [
    "authors = {}\n",
    "\n",
    "def extract(path):\n",
    "    print(path)\n",
    "    \n",
    "    with open(path) as filein:\n",
    "        tree = ET.parse(filein)\n",
    "        root = tree.getroot()\n",
    "        \n",
    "        for author in tqdm(root.findall('.//{http://www.tei-c.org/ns/1.0}listPerson/{http://www.tei-c.org/ns/1.0}person')):\n",
    "            fullbirth = author.find('.//{http://www.tei-c.org/ns/1.0}birth')\n",
    "            \n",
    "            try:\n",
    "                ident = author.get(\"{http://www.w3.org/XML/1998/namespace}id\")\n",
    "                if ident not in authors.keys():\n",
    "                    authors[ident] = {}\n",
    "            \n",
    "                    try:\n",
    "                        if \"when\" in fullbirth.attrib.keys():\n",
    "                            authors[ident][\"birth\"] = fullbirth.get(\"when\")\n",
    "                        else:\n",
    "                            authors[ident][\"birth\"] = \"?\" + fullbirth.get(\"notBefore\")\n",
    "                            \n",
    "                    except:\n",
    "                        authors[ident][\"birth\"] = \"none\"\n",
    "\n",
    "                    try:\n",
    "                        lg = {}\n",
    "                        for name in author.findall('.//{http://www.tei-c.org/ns/1.0}persName'):\n",
    "                            try:\n",
    "                                lg[name.get(\"{http://www.w3.org/XML/1998/namespace}lang\")] = name.find(\"./{http://www.tei-c.org/ns/1.0}surname\").text + \", \" + name.find(\"./{http://www.tei-c.org/ns/1.0}firstname\").text\n",
    "                            except:\n",
    "                                lg[name.get(\"{http://www.w3.org/XML/1998/namespace}lang\")] = name.text\n",
    "                        if \"fr\" in lg.keys():\n",
    "                            authors[ident][\"name\"] = lg[\"fr\"]\n",
    "                        elif \"la\" in lg.keys():\n",
    "                            authors[ident][\"name\"] = lg[\"la\"]\n",
    "                        else:\n",
    "                            authors[ident][\"name\"] = lg[\"en\"]\n",
    "                            \n",
    "                    except:\n",
    "                        authors[ident][\"name\"] = \"none\"\n",
    "            except:\n",
    "                continue\n",
    "            \n",
    "\n",
    "for witness in witnesses:\n",
    "    fullpath = binpath + witness + einpath\n",
    "    \n",
    "    extract(fullpath)\n",
    "\n",
    "final = {}\n",
    "for author in authors.keys():\n",
    "    \n",
    "    if \"?\" in authors[author][\"birth\"]:\n",
    "        birth = authors[author][\"birth\"].replace(\"?\",\"\")\n",
    "    try:\n",
    "        if int(birth) < 550:\n",
    "            final[author] = authors[author]\n",
    "    except:\n",
    "        print(authors[author])\n",
    "\n",
    "print(final)"
   ]
  },
  {
   "cell_type": "code",
   "execution_count": null,
   "id": "231c6f2d",
   "metadata": {},
   "outputs": [],
   "source": []
  },
  {
   "cell_type": "code",
   "execution_count": null,
   "id": "e184ed41",
   "metadata": {},
   "outputs": [],
   "source": []
  }
 ],
 "metadata": {
  "kernelspec": {
   "display_name": "Python 3 (ipykernel)",
   "language": "python",
   "name": "python3"
  },
  "language_info": {
   "codemirror_mode": {
    "name": "ipython",
    "version": 3
   },
   "file_extension": ".py",
   "mimetype": "text/x-python",
   "name": "python",
   "nbconvert_exporter": "python",
   "pygments_lexer": "ipython3",
   "version": "3.9.7"
  }
 },
 "nbformat": 4,
 "nbformat_minor": 5
}
