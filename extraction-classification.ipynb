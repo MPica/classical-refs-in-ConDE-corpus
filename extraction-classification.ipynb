{
 "cells": [
  {
   "cell_type": "markdown",
   "id": "7d0ef279",
   "metadata": {},
   "source": [
    "# Extraction and classification of classical references from the ConDÉ corpus\n",
    "\n",
    "Script written by Morgane Pica for a submission to the symposium [\"Lire les classiques en Normandie\"](https://rmblf.be/2022/02/04/appel-a-contribution-lire-les-classiques-en-normandie/) (oct 2022), to be written by herself and Mathieu Goux.\n",
    "\n",
    "## Imports & declarations"
   ]
  },
  {
   "cell_type": "code",
   "execution_count": 35,
   "id": "eb0b798e",
   "metadata": {},
   "outputs": [],
   "source": [
    "from tqdm.notebook import tqdm #tqdm est bibliothèque qui permet d'avoir une barre de progression\n",
    "import xml.etree.ElementTree as ET\n",
    "import csv\n",
    "\n",
    "ET.register_namespace(\"\", \"http://www.tei-c.org/ns/1.0\")\n",
    "ET.register_namespace('xml','http://www.w3.org/XML/1998/namespace')\n",
    "\n",
    "# Not all witnesses were enriched with reference identification.\n",
    "witnesses = [\"basnage\",\"berault\",\"merville\",\"pesnelle\",\"terrien\"]\n",
    "binpath = \"/home/mpica/Progs/perso/CONDE/editions/base-version/\"\n",
    "einpath = \"_base.xml\"\n",
    "\n",
    "listfile = \"authors.csv\"\n",
    "tablefile = \"mentions.csv\"\n",
    "authortable = \"authors.csv\"\n",
    "checklist = \"checklist.xml\""
   ]
  },
  {
   "cell_type": "markdown",
   "id": "e69cb1f4",
   "metadata": {},
   "source": [
    "## FUNCTION: extract authors and store in a dictionary"
   ]
  },
  {
   "cell_type": "code",
   "execution_count": 45,
   "id": "7ae311cc",
   "metadata": {},
   "outputs": [],
   "source": [
    "authors = {}\n",
    "\n",
    "def extract(witness, path):\n",
    "    print(witness)\n",
    "    \n",
    "    \"\"\"\n",
    "    Function taking the name and path to a TEI-XML text file and\n",
    "    analyzing the references, doing two things:\n",
    "        - returning an XML element named after the current witness,\n",
    "            itself containing the copy of each reference declaration,\n",
    "        - completing the general author dictionnary with new elements,\n",
    "            whether new authors or authors whose informations were\n",
    "            incomplete.\n",
    "            \n",
    "    :param witness: Name (=id) of the current witness as str (no space)\n",
    "    :param path: Path to the current witness TEI-XML file.\n",
    "    \n",
    "    \"\"\"\n",
    "    \n",
    "    # Create the witness element.\n",
    "    liste = ET.Element(witness)\n",
    "    \n",
    "    # Open and parse TEI-XML file.\n",
    "    with open(path) as filein:\n",
    "        tree = ET.parse(filein)\n",
    "        root = tree.getroot()\n",
    "        \n",
    "        # Look for all declared authors.\n",
    "        for author in tqdm(root.findall('.//{http://www.tei-c.org/ns/1.0}listPerson/{http://www.tei-c.org/ns/1.0}person')):\n",
    "            \n",
    "            # Get <birth> element.\n",
    "            fullbirth = author.find('.//{http://www.tei-c.org/ns/1.0}birth')\n",
    "            fulldeath = author.find('.//{http://www.tei-c.org/ns/1.0}death')\n",
    "            \n",
    "            try:\n",
    "                # Get current author identifier.\n",
    "                ident = author.get(\"{http://www.w3.org/XML/1998/namespace}id\")\n",
    "                \n",
    "                if ident not in authors.keys():\n",
    "                    # Create a dict. entry for the current author.\n",
    "                    authors[ident] = {}\n",
    "            \n",
    "                    try:\n",
    "                        # Get current author birth date.\n",
    "                        \n",
    "                        if \"when\" in fullbirth.attrib.keys():\n",
    "                            authors[ident][\"earliest-birth\"] = fullbirth.get(\"when\")\n",
    "                            authors[ident][\"latest-birth\"] = fullbirth.get(\"when\")\n",
    "                        else:\n",
    "                            authors[ident][\"earliest-birth\"] = fullbirth.get(\"notBefore\")\n",
    "                            authors[ident][\"latest-birth\"] = fullbirth.get(\"notAfter\")\n",
    "                            \n",
    "                    except:\n",
    "                        authors[ident][\"earliest-birth\"] = \"none\"\n",
    "                        authors[ident][\"latest-birth\"] = \"none\"\n",
    "                        liste.append(author)\n",
    "                    \n",
    "                    try:\n",
    "                        # Get current author death date.\n",
    "                        \n",
    "                        if \"when\" in fullbirth.attrib.keys():\n",
    "                            authors[ident][\"earliest-death\"] = fulldeath.get(\"when\")\n",
    "                            authors[ident][\"latest-death\"] = fulldeath.get(\"when\")\n",
    "                        else:\n",
    "                            authors[ident][\"earliest-death\"] = fulldeath.get(\"notBefore\")\n",
    "                            authors[ident][\"latest-death\"] = fulldeath.get(\"notAfter\")\n",
    "                            \n",
    "                    except:\n",
    "                        authors[ident][\"earliest-death\"] = \"none\"\n",
    "                        authors[ident][\"latest-death\"] = \"none\"\n",
    "                        liste.append(author)\n",
    "                        \n",
    "\n",
    "                    try:\n",
    "                        # Create a dict. to store all recorded names for current author.\n",
    "                        lg = {}\n",
    "                        \n",
    "                        # Loop on names, store their language.\n",
    "                        for name in author.findall('.//{http://www.tei-c.org/ns/1.0}persName'):\n",
    "                            namelang = name.get(\"{http://www.w3.org/XML/1998/namespace}lang\")\n",
    "                            \n",
    "                            if name.text:\n",
    "                                # If name is not split into <forename>/<surname> elements,\n",
    "                                # there is text directly into <persName> element and we\n",
    "                                # make this the current language text.\n",
    "                                lg[namelang] = name.text\n",
    "                                \n",
    "                            else:\n",
    "                                # If name is split, the order is unsure, therefore\n",
    "                                # we store each kind into its own entry\n",
    "                                # within names dict. and make a final str out of it.\n",
    "                                names = {}\n",
    "                                for nchild in name.findall('*'):\n",
    "                                    if nchild.tag == \"{http://www.tei-c.org/ns/1.0}forename\":\n",
    "                                        names[\"fn\"] = nchild.text\n",
    "                                    elif nchild.tag == \"{http://www.tei-c.org/ns/1.0}surname\":\n",
    "                                        names[\"sn\"] = nchild.text\n",
    "                                    \n",
    "                                lg[namelang] = names[\"fn\"] + \" \" + names[\"sn\"]\n",
    "                                \n",
    "                        \n",
    "                        # Setting an order of preference for final display of name:\n",
    "                        # preferably French, if not, Latin, and if neither, English.\n",
    "                        # (These are the only three name languages within the corpus.)\n",
    "                        if \"fr\" in lg.keys():\n",
    "                            authors[ident][\"name\"] = lg[\"fr\"]\n",
    "                        elif \"la\" in lg.keys():\n",
    "                            authors[ident][\"name\"] = lg[\"la\"]\n",
    "                        elif \"eng\" in lg.keys():\n",
    "                            authors[ident][\"name\"] = lg[\"eng\"]\n",
    "                            \n",
    "                    except:\n",
    "                        authors[ident][\"name\"] = \"none\"\n",
    "                        liste.append(author)\n",
    "                    \n",
    "                # If the author was recorded in a previous witness but has no name,\n",
    "                # we try to make a name string again with this witness.\n",
    "                \n",
    "                elif authors[ident][\"name\"] == \"none\":\n",
    "                    \n",
    "                    try:\n",
    "                        lg = {}\n",
    "                        for name in author.findall('.//{http://www.tei-c.org/ns/1.0}persName'):\n",
    "                            namelang = name.get(\"{http://www.w3.org/XML/1998/namespace}lang\")\n",
    "                            if name.text:\n",
    "                                lg[namelang] = name.text\n",
    "                                \n",
    "                            else:\n",
    "                                names = {}\n",
    "                                for nchild in name.findall('*'):\n",
    "                                    if nchild.tag == \"{http://www.tei-c.org/ns/1.0}forename\":\n",
    "                                        names[\"fn\"] = nchild.text\n",
    "                                    elif nchild.tag == \"{http://www.tei-c.org/ns/1.0}surname\":\n",
    "                                        names[\"sn\"] = nchild.text\n",
    "                                        \n",
    "                                lg[namelang] = names[\"sn\"] + \", \" + names[\"fn\"]\n",
    "                                                            \n",
    "                        if \"fr\" in lg.keys():\n",
    "                            authors[ident][\"name\"] = lg[\"fr\"]\n",
    "                        elif \"la\" in lg.keys():\n",
    "                            authors[ident][\"name\"] = lg[\"la\"]\n",
    "                        elif \"eng\" in lg.keys():\n",
    "                            authors[ident][\"name\"] = lg[\"eng\"]\n",
    "                            \n",
    "                    except:\n",
    "                        authors[ident][\"name\"] = \"none\"\n",
    "                        liste.append(author)\n",
    "                    \n",
    "            except:\n",
    "                continue\n",
    "    \n",
    "    return liste"
   ]
  },
  {
   "cell_type": "markdown",
   "id": "3dd642ba",
   "metadata": {},
   "source": [
    "## FUNCTION: sort extracted authors: keep those born before year 550"
   ]
  },
  {
   "cell_type": "code",
   "execution_count": 37,
   "id": "3885d1f2",
   "metadata": {},
   "outputs": [],
   "source": [
    "def sort(dico):\n",
    "    \n",
    "    \"\"\"\n",
    "    Function taking a dictionary of authors shaped like so:\n",
    "    {'authorID': {'birth':'0000', 'name':'AuthorName'}}\n",
    "    and returning the same dictionnary where all authors with a\n",
    "    number greater than 550 as a birthdate were removed.\n",
    "    \n",
    "    :param dico: dict\n",
    "    \n",
    "    \"\"\"\n",
    "    print(\"Now sorting authors.\")\n",
    "    # Looping on author identifiers (=keys of dict.)\n",
    "    for author in tqdm(dico.keys()):\n",
    "        \n",
    "        birth = authors[author][\"latest-birth\"]\n",
    "        \n",
    "        try:\n",
    "            # If the author was born before 550, the entry is added\n",
    "            # to the new dictionary.\n",
    "            \n",
    "            if int(birth) < 550:\n",
    "                final[author] = authors[author]\n",
    "        except:\n",
    "            \n",
    "            # If there is an error (no birth date), print the author\n",
    "            # as we want to know if they are interesting now\n",
    "            # (if so, we can correct the XML itself).\n",
    "            \n",
    "            print(authors[author])\n",
    "    \n",
    "    # Show me the final dictionary to assess the data.\n",
    "    print(final)\n",
    "    \n",
    "    return final"
   ]
  },
  {
   "cell_type": "markdown",
   "id": "eb04874e",
   "metadata": {},
   "source": [
    "## FUNCTION: get locations of all references"
   ]
  },
  {
   "cell_type": "code",
   "execution_count": 38,
   "id": "f4b8e3dd",
   "metadata": {},
   "outputs": [],
   "source": [
    "def get_refs(witness, path, authors):\n",
    "    print(witness)\n",
    "    \"\"\"\n",
    "    Function taking the name and path to a witness, as well\n",
    "    as a list of author identifiers previously extracted, and\n",
    "    fills the mentions dict. with identification information\n",
    "    about each mention of each author in the list.\n",
    "    \n",
    "    \n",
    "    :param authors: list of xml identifiers.\n",
    "    \"\"\"\n",
    "    \n",
    "    partcount = 0\n",
    "    chptcount = 0\n",
    "    sctcount = 0\n",
    "    \n",
    "    # Open and parse TEI-XML file.\n",
    "    with open(path) as filein:\n",
    "        tree = ET.parse(filein)\n",
    "        root = tree.getroot()\n",
    "        \n",
    "        # Enter each part, chapter and section, keeping track of\n",
    "        # their respective numbers. Chapter and section counts do not\n",
    "        # start anew with each new parent, so as to have a unique number\n",
    "        # within the document.\n",
    "        for part in tqdm(root.findall('.//{http://www.tei-c.org/ns/1.0}div[@type=\"part\"]')):\n",
    "            partcount += 1\n",
    "            \n",
    "            for chapter in part.findall('.//{http://www.tei-c.org/ns/1.0}div[@type=\"chapter\"]'):\n",
    "                chptcount += 1\n",
    "                \n",
    "                for section in chapter.findall('.//{http://www.tei-c.org/ns/1.0}div[@type=\"section\"]'):\n",
    "                    sctcount += 1\n",
    "                    \n",
    "                    for ref in section.findall('.//{http://www.tei-c.org/ns/1.0}ref'):\n",
    "                        \n",
    "                        # Only work if the mention as an @corresp (there are others and\n",
    "                        # these are of no interest here).\n",
    "                        \n",
    "                        if ref.get('corresp'):\n",
    "                            ident = ref.get('corresp').replace(\"#\",\"\")\n",
    "                            \n",
    "                            if ident in authors and ident in mentions:\n",
    "                                mentions[ident] += [[witness, str(partcount), str(chptcount), str(sctcount)]]\n",
    "                            \n",
    "                            elif ident in authors:\n",
    "                                mentions[ident] = [[witness, str(partcount), str(chptcount), str(sctcount)]]"
   ]
  },
  {
   "cell_type": "markdown",
   "id": "5a458780",
   "metadata": {},
   "source": [
    "## FUNCTION: make a CSV file out of all this"
   ]
  },
  {
   "cell_type": "code",
   "execution_count": 39,
   "id": "3aa0390f",
   "metadata": {},
   "outputs": [],
   "source": [
    "def initial_csv(mentions, info):\n",
    "    \n",
    "    \"\"\"\n",
    "    Function writing the final CSV compiling author information\n",
    "    and author mentions.\n",
    "    \n",
    "    :param mentions: a dictionary with author identifiers as keys\n",
    "        (and a list of his mentions within the corpus as value)\n",
    "        \n",
    "    :param info: a dictionary with author identifiers as keys\n",
    "        (and a dictionary of his personal information as value)\n",
    "    \"\"\"\n",
    "    \n",
    "    # Columns for the new CSV file.\n",
    "    \n",
    "    columns = [\n",
    "        \"Author\",\n",
    "        \"Birth start\",\n",
    "        \"Birth stop\",\n",
    "        \"Death start\",\n",
    "        \"Death stop\",\n",
    "        \"Witness\",\n",
    "        \"Part\",\n",
    "        \"Chapter\",\n",
    "        \"Section\"\n",
    "    ]\n",
    "    \n",
    "    \n",
    "    # Open and prepare CSV file.\n",
    "    with open(tablefile, 'w') as csvtobe:\n",
    "        csvwriting = csv.DictWriter(csvtobe, fieldnames = columns)\n",
    "        csvwriting.writeheader()\n",
    "    \n",
    "        # Loop on author keys in information dict.\n",
    "        # and keep the associated value in \"local\" var.\n",
    "        for author in info.keys():\n",
    "            local = info[author]\n",
    "            \n",
    "            # Loop on all mentions of current author,\n",
    "            # and combine with author information.\n",
    "            try:\n",
    "                for mention in mentions[author]:\n",
    "                \n",
    "                    csvwriting.writerow({\n",
    "                        \"Author\": local[\"name\"],\n",
    "                        \"Birth start\": local[\"earliest-birth\"],\n",
    "                        \"Birth stop\" : local[\"latest-birth\"],\n",
    "                        \"Death start\" : local[\"earliest-death\"],\n",
    "                        \"Death stop\" : local[\"latest-death\"],\n",
    "                        \"Witness\" : mention[0],\n",
    "                        \"Part\" : mention [1],\n",
    "                        \"Chapter\" : mention [2],\n",
    "                        \"Section\" : mention[3]\n",
    "                    })\n",
    "            except:\n",
    "                print(author, \"\\n\", local, \"\\n\")\n",
    "                continue"
   ]
  },
  {
   "cell_type": "markdown",
   "id": "1873de14",
   "metadata": {},
   "source": [
    "## FUNCTION: generating author CSV file."
   ]
  },
  {
   "cell_type": "code",
   "execution_count": 40,
   "id": "913d1534",
   "metadata": {},
   "outputs": [],
   "source": [
    "def author_csv(dico, path):\n",
    "    \n",
    "    \"\"\"\n",
    "    Function taking a dictionary of author information and an\n",
    "    export path and writing a CSV file for author timeline dataviz.\n",
    "    \n",
    "    :param dico: The dictionary of authors to show.\n",
    "    :param path: The path to which the CSV file will be written.\n",
    "    \"\"\"\n",
    "    \n",
    "    # Open and prepare CSV file.\n",
    "    with open(path, 'w') as csvtobe:\n",
    "        csvwriting = csv.DictWriter(csvtobe, fieldnames = [\"Author\", \"From\", \"To\", \"Param\"])\n",
    "        csvwriting.writeheader()\n",
    "        \n",
    "        # Loop on all authors in dictionary and store\n",
    "        # current author information in \"author\" var.\n",
    "        for entity in dico.keys():\n",
    "            author = final[entity]\n",
    "            \n",
    "            # For all authors, make at least one line\n",
    "            # containing the latest possible birth date\n",
    "            # and earliest possible death date: these\n",
    "            # represent the \"sure\" lifespan if there is one.\n",
    "            \n",
    "            csvwriting.writerow({\n",
    "                \"Author\": author[\"name\"],\n",
    "                \"From\": author[\"latest-birth\"],\n",
    "                \"To\" : author[\"earliest-death\"],\n",
    "                \"Param\" : \"Vie (certaine)\",\n",
    "            })\n",
    "            \n",
    "            # Then compare birth date columns and only\n",
    "            # if dates are different, make another line\n",
    "            # with this time span.\n",
    "            \n",
    "            if author[\"earliest-birth\"] != author[\"latest-birth\"]:\n",
    "                \n",
    "                csvwriting.writerow({\n",
    "                    \"Author\": author[\"name\"],\n",
    "                    \"From\": author[\"earliest-birth\"],\n",
    "                    \"To\" : author[\"latest-birth\"],\n",
    "                    \"Param\" : \"Naissance (imprécis)\",\n",
    "                })\n",
    "            \n",
    "            # Then compare death date columns and only\n",
    "            # if dates are different, make another line\n",
    "            # with this time span.\n",
    "            \n",
    "            if author[\"earliest-death\"] != author[\"latest-death\"]:\n",
    "                \n",
    "                csvwriting.writerow({\n",
    "                    \"Author\": author[\"name\"],\n",
    "                    \"From\": author[\"earliest-death\"],\n",
    "                    \"To\" : author[\"latest-death\"],\n",
    "                    \"Param\" : \"Mort (imprécis)\",\n",
    "                })"
   ]
  },
  {
   "cell_type": "markdown",
   "id": "77b2bb19",
   "metadata": {},
   "source": [
    "## Using the previously declared functions"
   ]
  },
  {
   "cell_type": "code",
   "execution_count": 46,
   "id": "a02a0a95",
   "metadata": {},
   "outputs": [
    {
     "name": "stdout",
     "output_type": "stream",
     "text": [
      "basnage\n"
     ]
    },
    {
     "data": {
      "application/vnd.jupyter.widget-view+json": {
       "model_id": "dae3fb26361c4cf096470ad15d5c57a9",
       "version_major": 2,
       "version_minor": 0
      },
      "text/plain": [
       "  0%|          | 0/360 [00:00<?, ?it/s]"
      ]
     },
     "metadata": {},
     "output_type": "display_data"
    },
    {
     "name": "stdout",
     "output_type": "stream",
     "text": [
      "berault\n"
     ]
    },
    {
     "data": {
      "application/vnd.jupyter.widget-view+json": {
       "model_id": "81262cf84ea34d33b6b606aca2472c24",
       "version_major": 2,
       "version_minor": 0
      },
      "text/plain": [
       "  0%|          | 0/145 [00:00<?, ?it/s]"
      ]
     },
     "metadata": {},
     "output_type": "display_data"
    },
    {
     "name": "stdout",
     "output_type": "stream",
     "text": [
      "merville\n"
     ]
    },
    {
     "data": {
      "application/vnd.jupyter.widget-view+json": {
       "model_id": "e22f3a5090ff43f49ad3a842a301b8c0",
       "version_major": 2,
       "version_minor": 0
      },
      "text/plain": [
       "  0%|          | 0/38 [00:00<?, ?it/s]"
      ]
     },
     "metadata": {},
     "output_type": "display_data"
    },
    {
     "name": "stdout",
     "output_type": "stream",
     "text": [
      "pesnelle\n"
     ]
    },
    {
     "data": {
      "application/vnd.jupyter.widget-view+json": {
       "model_id": "22f352c3f90c42798c99f046767dbe73",
       "version_major": 2,
       "version_minor": 0
      },
      "text/plain": [
       "  0%|          | 0/207 [00:00<?, ?it/s]"
      ]
     },
     "metadata": {},
     "output_type": "display_data"
    },
    {
     "name": "stdout",
     "output_type": "stream",
     "text": [
      "terrien\n"
     ]
    },
    {
     "data": {
      "application/vnd.jupyter.widget-view+json": {
       "model_id": "57b618a2ceec462398d08f5f039c2693",
       "version_major": 2,
       "version_minor": 0
      },
      "text/plain": [
       "  0%|          | 0/92 [00:00<?, ?it/s]"
      ]
     },
     "metadata": {},
     "output_type": "display_data"
    },
    {
     "name": "stdout",
     "output_type": "stream",
     "text": [
      "Now sorting authors.\n"
     ]
    },
    {
     "data": {
      "application/vnd.jupyter.widget-view+json": {
       "model_id": "4f77256c3b2d4e1598aff7cc62a8f2bd",
       "version_major": 2,
       "version_minor": 0
      },
      "text/plain": [
       "  0%|          | 0/489 [00:00<?, ?it/s]"
      ]
     },
     "metadata": {},
     "output_type": "display_data"
    },
    {
     "name": "stdout",
     "output_type": "stream",
     "text": [
      "{'earliest-birth': 'none', 'latest-birth': 'none', 'earliest-death': 'none', 'latest-death': 'none', 'name': 'Anian'}\n",
      "{'earliest-birth': 'none', 'latest-birth': 'none', 'earliest-death': 'none', 'latest-death': 'none', 'name': 'Johann Berthold Herold'}\n",
      "{'earliest-birth': 'none', 'latest-birth': 'none', 'earliest-death': 'none', 'latest-death': 'none', 'name': 'Arq.'}\n",
      "{'earliest-birth': 'none', 'latest-birth': 'none', 'earliest-death': 'none', 'latest-death': 'none', 'name': 'Goncanus'}\n",
      "{'earliest-birth': 'none', 'latest-birth': 'none', 'earliest-death': 'none', 'latest-death': 'none', 'name': 'Febur.'}\n",
      "{'earliest-birth': 'none', 'latest-birth': 'none', 'earliest-death': 'none', 'latest-death': 'none', 'name': '\\u2028Michel (saint)\\u2028'}\n",
      "{'earliest-birth': 'none', 'latest-birth': 'none', 'earliest-death': 'none', 'latest-death': 'none', 'name': 'Masurier'}\n",
      "{'earliest-birth': 'none', 'latest-birth': 'none', 'earliest-death': 'none', 'latest-death': 'none', 'name': 'Alexis Chartier'}\n",
      "{'earliest-birth': 'none', 'latest-birth': 'none', 'earliest-death': 'none', 'latest-death': 'none', 'name': 'Apulée'}\n",
      "{'earliest-birth': 'none', 'latest-birth': 'none', 'earliest-death': 'none', 'latest-death': 'none', 'name': 'Ald. Manut.'}\n",
      "{'earliest-birth': 'none', 'latest-birth': 'none', 'earliest-death': 'none', 'latest-death': 'none', 'name': 'Frigentius'}\n",
      "{'earliest-birth': 'none', 'latest-birth': 'none', 'earliest-death': 'none', 'latest-death': 'none', 'name': 'Fillesac'}\n",
      "{'earliest-birth': 'none', 'latest-birth': 'none', 'earliest-death': 'none', 'latest-death': 'none', 'name': 'Isidore'}\n",
      "{'earliest-birth': 'none', 'latest-birth': 'none', 'earliest-death': 'none', 'latest-death': 'none', 'name': 'Adrien (pape) '}\n",
      "{'earliest-birth': 'none', 'latest-birth': 'none', 'earliest-death': 'none', 'latest-death': 'none', 'name': '\\u2028Matthieu (saint)\\u2028'}\n",
      "{'earliest-birth': 'none', 'latest-birth': 'none', 'earliest-death': 'none', 'latest-death': 'none', 'name': 'Fortin'}\n",
      "{'earliest-birth': 'none', 'latest-birth': 'none', 'earliest-death': 'none', 'latest-death': 'none', 'name': 'Adrien'}\n",
      "{'earliest-birth': 'none', 'latest-birth': 'none', 'earliest-death': 'none', 'latest-death': 'none', 'name': 'Antipater de Thessalonique'}\n",
      "{'earliest-birth': 'none', 'latest-birth': 'none', 'earliest-death': 'none', 'latest-death': 'none', 'name': 'Moïse'}\n",
      "{'earliest-birth': 'none', 'latest-birth': 'none', 'earliest-death': 'none', 'latest-death': 'none', 'name': 'Froben'}\n",
      "{'earliest-birth': 'none', 'latest-birth': 'none', 'earliest-death': 'none', 'latest-death': 'none', 'name': '\\u2028Thomas (saint)\\u2028'}\n",
      "{'earliest-birth': 'none', 'latest-birth': 'none', 'earliest-death': 'none', 'latest-death': 'none', 'name': 'Josephe'}\n",
      "{'earliest-birth': 'none', 'latest-birth': 'none', 'earliest-death': 'none', 'latest-death': 'none', 'name': 'Balduin'}\n",
      "{'earliest-birth': 'none', 'latest-birth': 'none', 'earliest-death': 'none', 'latest-death': 'none', 'name': 'Jean-Baptiste (saint)\\u2028'}\n",
      "{'earliest-birth': 'none', 'latest-birth': 'none', 'earliest-death': 'none', 'latest-death': 'none', 'name': 'Josué'}\n",
      "{'earliest-birth': 'none', 'latest-birth': 'none', 'earliest-death': 'none', 'latest-death': 'none', 'name': 'Bannés'}\n",
      "{'earliest-birth': 'none', 'latest-birth': 'none', 'earliest-death': 'none', 'latest-death': 'none', 'name': 'Évariste'}\n",
      "{'earliest-birth': 'none', 'latest-birth': 'none', 'earliest-death': 'none', 'latest-death': 'none', 'name': 'Montholon'}\n",
      "{'earliest-birth': 'none', 'latest-birth': 'none', 'earliest-death': 'none', 'latest-death': 'none', 'name': 'Livius'}\n",
      "{'earliest-birth': 'none', 'latest-birth': 'none', 'earliest-death': 'none', 'latest-death': 'none', 'name': 'Bonneton'}\n",
      "{'earliest-birth': 'none', 'latest-birth': 'none', 'earliest-death': 'none', 'latest-death': 'none', 'name': 'Bam.'}\n",
      "{'earliest-birth': 'none', 'latest-birth': 'none', 'earliest-death': 'none', 'latest-death': 'none', 'name': 'Colombel'}\n",
      "{'earliest-birth': 'none', 'latest-birth': 'none', 'earliest-death': 'none', 'latest-death': 'none', 'name': 'pape Lucius'}\n",
      "{'earliest-birth': 'none', 'latest-birth': 'none', 'earliest-death': 'none', 'latest-death': 'none', 'name': 'Marcellus'}\n",
      "{'earliest-birth': 'none', 'latest-birth': 'none', 'earliest-death': 'none', 'latest-death': 'none', 'name': 'Luc (saint)'}\n",
      "{'earliest-birth': 'none', 'latest-birth': 'none', 'earliest-death': 'none', 'latest-death': 'none', 'name': 'Cassius'}\n",
      "{'earliest-birth': 'none', 'latest-birth': 'none', 'earliest-death': 'none', 'latest-death': 'none', 'name': 'Angel'}\n",
      "{'earliest-birth': 'none', 'latest-birth': 'none', 'earliest-death': 'none', 'latest-death': 'none', 'name': 'Nicephore'}\n",
      "{'earliest-birth': 'none', 'latest-birth': 'none', 'earliest-death': 'none', 'latest-death': 'none', 'name': 'Muncer'}\n",
      "{'earliest-birth': 'none', 'latest-birth': 'none', 'earliest-death': 'none', 'latest-death': 'none', 'name': 'Iudaus'}\n",
      "{'earliest-birth': 'none', 'latest-birth': 'none', 'earliest-death': 'none', 'latest-death': 'none', 'name': 'Anchar'}\n",
      "{'earliest-birth': 'none', 'latest-birth': 'none', 'earliest-death': 'none', 'latest-death': 'none', 'name': 'Galien'}\n",
      "{'earliest-birth': 'none', 'latest-birth': 'none', 'earliest-death': 'none', 'latest-death': 'none', 'name': 'Timarchus'}\n",
      "{'earliest-birth': 'none', 'latest-birth': 'none', 'earliest-death': 'none', 'latest-death': 'none', 'name': 'Stephen Skinner'}\n",
      "{'earliest-birth': 'none', 'latest-birth': 'none', 'earliest-death': 'none', 'latest-death': 'none', 'name': 'Eusèbe Laurière (de)'}\n",
      "{'earliest-birth': 'none', 'latest-birth': 'none', 'earliest-death': 'none', 'latest-death': 'none', 'name': 'Estienne Pérard'}\n",
      "{'earliest-birth': 'none', 'latest-birth': 'none', 'earliest-death': 'none', 'latest-death': 'none', 'name': 'William Robertson'}\n",
      "{'earliest-birth': 'none', 'latest-birth': 'none', 'earliest-death': 'none', 'latest-death': 'none', 'name': 'Gillet'}\n",
      "{'earliest-birth': 'none', 'latest-birth': 'none', 'earliest-death': 'none', 'latest-death': 'none', 'name': 'Bertrand Louis\\xa0 Le Camus d Houlouve'}\n",
      "{'earliest-birth': 'none', 'latest-birth': 'none', 'earliest-death': 'none', 'latest-death': 'none', 'name': 'Rigord'}\n",
      "{'earliest-birth': 'none', 'latest-birth': 'none', 'earliest-death': 'none', 'latest-death': 'none', 'name': 'Nicod'}\n",
      "{'earliest-birth': 'none', 'latest-birth': 'none', 'earliest-death': 'none', 'latest-death': 'none', 'name': 'Claude Duplessis'}\n",
      "{'earliest-birth': 'none', 'latest-birth': 'none', 'earliest-death': 'none', 'latest-death': 'none', 'name': 'Chantreau'}\n",
      "{'earliest-birth': 'none', 'latest-birth': 'none', 'earliest-death': 'none', 'latest-death': 'none', 'name': 'Jean Gousset'}\n",
      "{'earliest-birth': 'none', 'latest-birth': 'none', 'earliest-death': 'none', 'latest-death': 'none', 'name': 'Gabriel Vedel (de)'}\n",
      "{'earliest-birth': 'none', 'latest-birth': 'none', 'earliest-death': 'none', 'latest-death': 'none', 'name': 'Jacques Morgues'}\n",
      "{'earliest-birth': 'none', 'latest-birth': 'none', 'earliest-death': 'none', 'latest-death': 'none', 'name': 'Étienne Éverard'}\n",
      "{'earliest-birth': 'none', 'latest-birth': 'none', 'earliest-death': 'none', 'latest-death': 'none', 'name': 'Joseph Renauldon'}\n",
      "{'earliest-birth': 'none', 'latest-birth': 'none', 'earliest-death': 'none', 'latest-death': 'none', 'name': 'Valentinien'}\n",
      "{'earliest-birth': 'none', 'latest-birth': 'none', 'earliest-death': 'none', 'latest-death': 'none', 'name': 'Bertheaume'}\n",
      "{'earliest-birth': 'none', 'latest-birth': 'none', 'earliest-death': 'none', 'latest-death': 'none', 'name': 'Maillard'}\n",
      "{'earliest-birth': 'none', 'latest-birth': 'none', 'earliest-death': 'none', 'latest-death': 'none', 'name': 'Nicolas Gouget'}\n",
      "{'earliest-birth': 'none', 'latest-birth': 'none', 'earliest-death': 'none', 'latest-death': 'none', 'name': \"Jean Avezan (d')\"}\n",
      "{'aristote': {'earliest-birth': '-0384', 'latest-birth': '-0384', 'earliest-death': '-0322', 'latest-death': '-0322', 'name': 'Aristote'}, 'marculphe': {'earliest-birth': '0490', 'latest-birth': '0490', 'earliest-death': '0558', 'latest-death': '0558', 'name': 'Marculphe'}, 'justinien': {'earliest-birth': '0482', 'latest-birth': '0482', 'earliest-death': '0565', 'latest-death': '0565', 'name': 'Justinien Ier'}, 'philon': {'earliest-birth': '-0030', 'latest-birth': '-0030', 'earliest-death': None, 'latest-death': None, 'name': \"Philon d'Alexandrie\"}, 'cicero': {'earliest-birth': '-0106', 'latest-birth': '-0106', 'earliest-death': '-0043', 'latest-death': '-0043', 'name': 'Cicéron'}, 'quintilien': {'earliest-birth': '0030', 'latest-birth': '0030', 'earliest-death': '0100', 'latest-death': '0100', 'name': 'Quintilien'}, 'pline': {'earliest-birth': '0061', 'latest-birth': '0061', 'earliest-death': '0114', 'latest-death': '0114', 'name': 'Pline le Jeune'}, 'tacite': {'earliest-birth': '0055', 'latest-birth': '0055', 'earliest-death': '0120', 'latest-death': '0120', 'name': 'Tacite'}, 'scipion': {'earliest-birth': '-0235', 'latest-birth': '-0235', 'earliest-death': '-0183', 'latest-death': '-0183', 'name': \"Scipion l'Africain\"}, 'pausanias': {'earliest-birth': '0100', 'latest-birth': '0199', 'earliest-death': '0100', 'latest-death': '0199', 'name': 'Pausanias'}, 'salvian': {'earliest-birth': '0390', 'latest-birth': '0390', 'earliest-death': '0484', 'latest-death': '0484', 'name': 'Salvien'}, 'papinien': {'earliest-birth': '0142', 'latest-birth': '0142', 'earliest-death': '0212', 'latest-death': '0212', 'name': 'Papinien'}, 'arist': {'earliest-birth': '-0384', 'latest-birth': '-0384', 'earliest-death': '-0322', 'latest-death': '-0322', 'name': 'Aristote'}, 'lampride': {'earliest-birth': '0300', 'latest-birth': '0399', 'earliest-death': '0300', 'latest-death': '0399', 'name': 'Lampride'}, 'homere': {'earliest-birth': '-0899', 'latest-birth': '-0800', 'earliest-death': '-0899', 'latest-death': '-0800', 'name': 'Homère'}, 'virgile': {'earliest-birth': '-0070', 'latest-birth': '-0070', 'earliest-death': '-0019', 'latest-death': '-0019', 'name': 'Virgile'}, 'caesar': {'earliest-birth': '-0100', 'latest-birth': '-0100', 'earliest-death': '-0044', 'latest-death': '-0044', 'name': 'Jules César '}, 's-germain': {'earliest-birth': '0490', 'latest-birth': '0499', 'earliest-death': None, 'latest-death': None, 'name': ' Germain (saint) '}, 'tertullien': {'earliest-birth': '0155', 'latest-birth': '0155', 'earliest-death': '0222', 'latest-death': '0222', 'name': 'Tertullien'}, 'artemidore': {'earliest-birth': '0100', 'latest-birth': '0199', 'earliest-death': '0100', 'latest-death': '0199', 'name': \"Artemidore d'Éphèse\"}, 'ulpien': {'earliest-birth': '0160', 'latest-birth': '0160', 'earliest-death': '0225', 'latest-death': '0225', 'name': 'Ulpien'}, 'diocletien': {'earliest-birth': '0245', 'latest-birth': '0245', 'earliest-death': '0313', 'latest-death': '0313', 'name': 'Dioclétien'}, 'diod': {'earliest-birth': '-0090', 'latest-birth': '-0090', 'earliest-death': '-0020', 'latest-death': '-0020', 'name': 'Diodore de Sicile'}, 'seneca': {'earliest-birth': '-0004', 'latest-birth': '-0004', 'earliest-death': '0065', 'latest-death': '0065', 'name': 'Sénèque'}, 'terence': {'earliest-birth': '-0190', 'latest-birth': '-0190', 'earliest-death': '-0159', 'latest-death': '-0159', 'name': 'Térence'}, 'horace': {'earliest-birth': '-0065', 'latest-birth': '-0065', 'earliest-death': '-0008', 'latest-death': '-0008', 'name': 'Horace'}, 'tite-live': {'earliest-birth': '-0059', 'latest-birth': '-0059', 'earliest-death': '0017', 'latest-death': '0017', 'name': 'Tite-Live\\xa0'}, 'spartian': {'earliest-birth': '0300', 'latest-birth': '0399', 'earliest-death': '0300', 'latest-death': '0399', 'name': 'Aelius Spartianus'}, 'gelase': {'earliest-birth': '0400', 'latest-birth': '0499', 'earliest-death': None, 'latest-death': None, 'name': ' Gélase Ier'}, 'greg-1': {'earliest-birth': '0540', 'latest-birth': '0540', 'earliest-death': '0604', 'latest-death': '0604', 'name': ' Grégoire Ier'}, 'thucydide': {'earliest-birth': '-0460', 'latest-birth': '-0460', 'earliest-death': '-0395', 'latest-death': '-0395', 'name': 'Thucydide'}, 'honorius': {'earliest-birth': '0384', 'latest-birth': '0384', 'earliest-death': '0423', 'latest-death': '0423', 'name': 'Honorius'}, 'arcadius': {'earliest-birth': '0377', 'latest-birth': '0377', 'earliest-death': '0408', 'latest-death': '0408', 'name': 'Arcadius'}, 'vopiscus': {'earliest-birth': '0200', 'latest-birth': '0299', 'earliest-death': '0300', 'latest-death': '0399', 'name': 'Flavius Vopiscus'}, 'augustin': {'earliest-birth': '0354', 'latest-birth': '0354', 'earliest-death': '0430', 'latest-death': '0430', 'name': 'Augustin (saint)'}, 'modestin': {'earliest-birth': '0200', 'latest-birth': '0299', 'earliest-death': '0200', 'latest-death': '0299', 'name': 'none'}, 'denis-le-petit': {'earliest-birth': '0497', 'latest-birth': '0497', 'earliest-death': '0545', 'latest-death': '0545', 'name': 'Denis le Petit'}, 'saluste': {'earliest-birth': '-0086', 'latest-birth': '-0086', 'earliest-death': '-0035', 'latest-death': '-0035', 'name': 'Salluste'}, 'fortunat': {'earliest-birth': '0530', 'latest-birth': '0530', 'earliest-death': '0601', 'latest-death': '0601', 'name': 'Venance Fortunat'}, 'heliodore': {'earliest-birth': '0200', 'latest-birth': '0299', 'earliest-death': '0200', 'latest-death': '0299', 'name': 'Héliodore de Larisse'}, 'servius': {'earliest-birth': '0363', 'latest-birth': '0363', 'earliest-death': None, 'latest-death': None, 'name': 'Maurus Honoratus Servius'}, 'curtius': {'earliest-birth': '0000', 'latest-birth': '0099', 'earliest-death': '0000', 'latest-death': '0099', 'name': '\\u2028 Quinte-Curce\\u2028 '}, 'martial': {'earliest-birth': '0040', 'latest-birth': '0040', 'earliest-death': '0104', 'latest-death': '0104', 'name': 'Martial'}, 'halic': {'earliest-birth': '0060', 'latest-birth': '0069', 'earliest-death': None, 'latest-death': None, 'name': \"Denis d'Halicarnasse\"}, 'suetone': {'earliest-birth': '0069', 'latest-birth': '0069', 'earliest-death': '0126', 'latest-death': '0126', 'name': 'Suétone'}, 's-paul': {'earliest-birth': '0000', 'latest-birth': '0099', 'earliest-death': '0000', 'latest-death': '0099', 'name': '\\u2028Paul (saint)\\u2028'}, 'aulus': {'earliest-birth': '0123', 'latest-birth': '0123', 'earliest-death': '0180', 'latest-death': '0180', 'name': '\\u2028 Aulu-Gelle\\u2028 '}, 'plaute': {'earliest-birth': '-0254', 'latest-birth': '-0254', 'earliest-death': '-0184', 'latest-death': '-0184', 'name': 'Plaute'}, 'zenon': {'earliest-birth': '0430', 'latest-birth': '0430', 'earliest-death': '0491', 'latest-death': '0491', 'name': 'Zénon'}, 'platon': {'earliest-birth': '-0427', 'latest-birth': '-0427', 'earliest-death': '-0348', 'latest-death': '-0348', 'name': 'Platon'}, 'solon': {'earliest-birth': '-0640', 'latest-birth': '-0640', 'earliest-death': '-0561', 'latest-death': '-0561', 'name': 'Solon'}, 'basile': {'earliest-birth': '0329', 'latest-birth': '0329', 'earliest-death': '0379', 'latest-death': '0379', 'name': 'Basile de Césarée (saint)'}, 'leon-pape': {'earliest-birth': '0390', 'latest-birth': '0399', 'earliest-death': None, 'latest-death': None, 'name': ' Léon Ier'}, 'ambroise': {'earliest-birth': '0340', 'latest-birth': '0340', 'earliest-death': '0397', 'latest-death': '0397', 'name': 'Ambroise (saint)'}, 'maximien': {'earliest-birth': '0250', 'latest-birth': '0250', 'earliest-death': '0310', 'latest-death': '0310', 'name': 'Maximien'}, 'anast': {'earliest-birth': '0431', 'latest-birth': '0431', 'earliest-death': '0518', 'latest-death': '0518', 'name': 'Anastase I'}, 'greg-3': {'earliest-birth': '0540', 'latest-birth': '0540', 'earliest-death': '0604', 'latest-death': '0604', 'name': ' Grégoire III'}, 'cassiod': {'earliest-birth': '0490', 'latest-birth': '0490', 'earliest-death': '0580', 'latest-death': '0580', 'name': 'Cassiodore'}, 'firmicus': {'earliest-birth': '0300', 'latest-birth': '0399', 'earliest-death': '0400', 'latest-death': '0499', 'name': 'Julius Firmicus Maternus'}, 'clem-alex': {'earliest-birth': '0150', 'latest-birth': '0150', 'earliest-death': None, 'latest-death': None, 'name': \"Clément d'Alexandrie\"}, 'xenophon': {'earliest-birth': '-0430', 'latest-birth': '-0430', 'earliest-death': '-0355', 'latest-death': '-0355', 'name': 'Xénophon'}, 'plutarque': {'earliest-birth': '0046', 'latest-birth': '0046', 'earliest-death': '0120', 'latest-death': '0120', 'name': 'Plutarque'}, 'hypocrate': {'earliest-birth': '-0460', 'latest-birth': '-0460', 'earliest-death': '-0377', 'latest-death': '-0377', 'name': 'Hippocrate'}, 'hermogenien': {'earliest-birth': '0200', 'latest-birth': '0299', 'earliest-death': '0200', 'latest-death': '0299', 'name': 'Hermogénien'}, 'celse': {'earliest-birth': '0100', 'latest-birth': '0199', 'earliest-death': '0100', 'latest-death': '0199', 'name': 'Celse'}, 'ammian': {'earliest-birth': '0330', 'latest-birth': '0330', 'earliest-death': '0395', 'latest-death': '0395', 'name': 'Marcellin Ammien'}, 'herodote': {'earliest-birth': '-0484', 'latest-birth': '-0484', 'earliest-death': '-0420', 'latest-death': '-0420', 'name': 'Hérodote'}, 'paulus': {'earliest-birth': '0100', 'latest-birth': '0199', 'earliest-death': '0200', 'latest-death': '0299', 'name': 'Paulus'}, 'appo': {'earliest-birth': '0431', 'latest-birth': '0431', 'earliest-death': '0487', 'latest-death': '0487', 'name': 'Sidoine Apollinaire'}, 'ennius': {'earliest-birth': '-0239', 'latest-birth': '-0239', 'earliest-death': '-0169', 'latest-death': '-0169', 'name': 'Quintus Ennius'}, 'catulle': {'earliest-birth': '-0087', 'latest-birth': '-0087', 'earliest-death': '-0052', 'latest-death': '-0052', 'name': 'Catulle'}, 'neratius': {'earliest-birth': '0000', 'latest-birth': '0099', 'earliest-death': '0100', 'latest-death': '0199', 'name': 'Lucius Neratius\\xa0Priscus\\xa0'}, 'lycurgue': {'earliest-birth': '-0390', 'latest-birth': '-0390', 'earliest-death': '-0324', 'latest-death': '-0324', 'name': 'Lycurgue'}, 'silius': {'earliest-birth': '0025', 'latest-birth': '0025', 'earliest-death': '0101', 'latest-death': '0101', 'name': 'Tiberius Catius Silius Italicus'}, 'caton': {'earliest-birth': '-0090', 'latest-birth': '-0090', 'earliest-death': '-0001', 'latest-death': '-0001', 'name': 'Caton'}, 'aristophane': {'earliest-birth': '-0445', 'latest-birth': '-0445', 'earliest-death': '-0386', 'latest-death': '-0386', 'name': 'Aristophane'}, 'labeon': {'earliest-birth': '-0050', 'latest-birth': '-0050', 'earliest-death': '0020', 'latest-death': '0020', 'name': 'Labéon'}, 'clement-1': {'earliest-birth': '0000', 'latest-birth': '0099', 'earliest-death': None, 'latest-death': None, 'name': 'Clément I'}, 'pompeius': {'earliest-birth': '-0075', 'latest-birth': '-0075', 'earliest-death': '-0035', 'latest-death': '-0035', 'name': 'Pompée'}, 'siculus': {'earliest-birth': '0100', 'latest-birth': '0199', 'earliest-death': '0100', 'latest-death': '0199', 'name': 'Siculus Flaccus\\xa0'}, 'appius-claudius': {'earliest-birth': '-0399', 'latest-birth': '-0300', 'earliest-death': '-0299', 'latest-death': '-0200', 'name': 'Appius Claudius Caecus'}, 'severe': {'earliest-birth': '0208', 'latest-birth': '0208', 'earliest-death': '0235', 'latest-death': '0235', 'name': 'Alexandre Sévère'}, 'inno-1': {'earliest-birth': '0300', 'latest-birth': '0399', 'earliest-death': None, 'latest-death': None, 'name': 'Innocent I'}, 'velleius': {'earliest-birth': '-0019', 'latest-birth': '-0019', 'earliest-death': '0031', 'latest-death': '0031', 'name': 'Caius Velleius Paterculus'}, 'pomponius': {'earliest-birth': '0100', 'latest-birth': '0199', 'earliest-death': '0100', 'latest-death': '0199', 'name': 'Sextus Pomponius'}}\n"
     ]
    }
   ],
   "source": [
    "# Initiate the root element for the XML debugging file.\n",
    "listroot = ET.Element(\"people\")\n",
    "\n",
    "# Loop on witnesses: construct the path from initial vars,\n",
    "# then trigger extract() function on current witness,\n",
    "# so as to both make the according element for the XML debugging file,\n",
    "# and fill the general author dictionary.\n",
    "\n",
    "for witness in witnesses:\n",
    "    fullpath = binpath + witness + einpath\n",
    "    \n",
    "    listroot.append(extract(witness, fullpath))\n",
    "\n",
    "# Start a new dictionary for the sorted authors.\n",
    "final = {}\n",
    "\n",
    "# Fill the dictionary with only desired authors.\n",
    "final = sort(authors)\n",
    "\n",
    "# Write XML debugging file.\n",
    "with open(checklist, \"w\") as failures:\n",
    "    a_ecrire = ET.tostring(listroot, encoding=\"unicode\", method=\"xml\")\n",
    "    failures.write(a_ecrire)"
   ]
  },
  {
   "cell_type": "code",
   "execution_count": 47,
   "id": "14476fc1",
   "metadata": {},
   "outputs": [
    {
     "name": "stdout",
     "output_type": "stream",
     "text": [
      "basnage\n"
     ]
    },
    {
     "data": {
      "application/vnd.jupyter.widget-view+json": {
       "model_id": "6cfeabd792304ac898e619a5b228905f",
       "version_major": 2,
       "version_minor": 0
      },
      "text/plain": [
       "  0%|          | 0/4 [00:00<?, ?it/s]"
      ]
     },
     "metadata": {},
     "output_type": "display_data"
    },
    {
     "name": "stdout",
     "output_type": "stream",
     "text": [
      "berault\n"
     ]
    },
    {
     "data": {
      "application/vnd.jupyter.widget-view+json": {
       "model_id": "f04e1c2754d54d32afe31d61fefff6ed",
       "version_major": 2,
       "version_minor": 0
      },
      "text/plain": [
       "  0%|          | 0/6 [00:00<?, ?it/s]"
      ]
     },
     "metadata": {},
     "output_type": "display_data"
    },
    {
     "name": "stdout",
     "output_type": "stream",
     "text": [
      "merville\n"
     ]
    },
    {
     "data": {
      "application/vnd.jupyter.widget-view+json": {
       "model_id": "3f7dbee1463646e982635df3890646b8",
       "version_major": 2,
       "version_minor": 0
      },
      "text/plain": [
       "  0%|          | 0/4 [00:00<?, ?it/s]"
      ]
     },
     "metadata": {},
     "output_type": "display_data"
    },
    {
     "name": "stdout",
     "output_type": "stream",
     "text": [
      "pesnelle\n"
     ]
    },
    {
     "data": {
      "application/vnd.jupyter.widget-view+json": {
       "model_id": "e1af70ea559046728e8d6577e4a3ca1b",
       "version_major": 2,
       "version_minor": 0
      },
      "text/plain": [
       "  0%|          | 0/3 [00:00<?, ?it/s]"
      ]
     },
     "metadata": {},
     "output_type": "display_data"
    },
    {
     "name": "stdout",
     "output_type": "stream",
     "text": [
      "terrien\n"
     ]
    },
    {
     "data": {
      "application/vnd.jupyter.widget-view+json": {
       "model_id": "060e3371a9e44db787b0de2196837503",
       "version_major": 2,
       "version_minor": 0
      },
      "text/plain": [
       "  0%|          | 0/16 [00:00<?, ?it/s]"
      ]
     },
     "metadata": {},
     "output_type": "display_data"
    },
    {
     "name": "stdout",
     "output_type": "stream",
     "text": [
      "{'marculphe': [['basnage', '1', '1', '1'], ['basnage', '1', '1', '1'], ['basnage', '1', '1', '13'], ['basnage', '1', '1', '13'], ['basnage', '1', '1', '13'], ['basnage', '1', '9', '105'], ['basnage', '1', '9', '109'], ['basnage', '1', '9', '109'], ['basnage', '1', '9', '114'], ['basnage', '1', '9', '147'], ['basnage', '1', '9', '147'], ['basnage', '1', '11', '241'], ['basnage', '1', '11', '241'], ['basnage', '1', '11', '241'], ['basnage', '1', '11', '255'], ['basnage', '1', '11', '265'], ['basnage', '1', '11', '267'], ['basnage', '1', '13', '338'], ['basnage', '1', '15', '377'], ['basnage', '1', '15', '377'], ['basnage', '1', '15', '400'], ['basnage', '1', '15', '402'], ['pesnelle', '1', '2', '1'], ['pesnelle', '1', '2', '18'], ['pesnelle', '1', '10', '117'], ['pesnelle', '1', '12', '247'], ['pesnelle', '1', '12', '255'], ['pesnelle', '1', '12', '267'], ['pesnelle', '1', '12', '267'], ['pesnelle', '1', '18', '379'], ['pesnelle', '1', '18', '383'], ['pesnelle', '1', '18', '383'], ['pesnelle', '1', '26', '446'], ['pesnelle', '1', '26', '461']], 'justinien': [['basnage', '1', '1', '1'], ['basnage', '1', '1', '1'], ['basnage', '1', '1', '1'], ['basnage', '1', '1', '1'], ['basnage', '1', '1', '1'], ['basnage', '1', '1', '13'], ['basnage', '1', '1', '13'], ['basnage', '1', '2', '55'], ['basnage', '1', '5', '73'], ['basnage', '1', '5', '73'], ['basnage', '1', '5', '73'], ['basnage', '1', '5', '74'], ['basnage', '1', '5', '74'], ['basnage', '1', '5', '74'], ['basnage', '1', '5', '74'], ['basnage', '1', '8', '92'], ['basnage', '1', '8', '96'], ['basnage', '1', '8', '98'], ['basnage', '1', '9', '147'], ['basnage', '1', '9', '149'], ['basnage', '1', '9', '150'], ['basnage', '1', '9', '150'], ['basnage', '1', '9', '150'], ['basnage', '1', '11', '241'], ['basnage', '1', '11', '242'], ['basnage', '1', '11', '242'], ['basnage', '1', '11', '242'], ['basnage', '1', '11', '242'], ['basnage', '1', '11', '242'], ['basnage', '1', '11', '242'], ['basnage', '1', '11', '242'], ['basnage', '1', '11', '242'], ['basnage', '1', '11', '242'], ['basnage', '1', '11', '242'], ['basnage', '1', '11', '242'], ['basnage', '1', '11', '242'], ['basnage', '1', '11', '252'], ['basnage', '1', '11', '254'], ['basnage', '1', '11', '254'], ['basnage', '1', '11', '255'], ['basnage', '1', '11', '257'], ['basnage', '1', '11', '257'], ['basnage', '1', '11', '257'], ['basnage', '1', '11', '258'], ['basnage', '1', '11', '267'], ['basnage', '1', '11', '282'], ['basnage', '1', '11', '284'], ['basnage', '1', '13', '313'], ['basnage', '1', '13', '313'], ['basnage', '1', '13', '320'], ['basnage', '1', '13', '329'], ['basnage', '1', '14', '367'], ['basnage', '1', '15', '377'], ['basnage', '1', '15', '377'], ['basnage', '1', '15', '379'], ['basnage', '1', '15', '379'], ['basnage', '1', '15', '380'], ['basnage', '1', '15', '380'], ['basnage', '1', '15', '380'], ['basnage', '1', '15', '380'], ['basnage', '1', '15', '380'], ['basnage', '1', '15', '380'], ['basnage', '1', '15', '380'], ['basnage', '1', '15', '388'], ['basnage', '1', '15', '388'], ['basnage', '1', '15', '393'], ['basnage', '1', '15', '410'], ['basnage', '1', '15', '410'], ['basnage', '1', '15', '415'], ['basnage', '1', '15', '416'], ['basnage', '1', '16', '424'], ['basnage', '1', '16', '424'], ['basnage', '1', '16', '424'], ['basnage', '1', '16', '425'], ['basnage', '1', '16', '425'], ['basnage', '1', '16', '425'], ['basnage', '1', '16', '426'], ['basnage', '1', '16', '434'], ['basnage', '1', '16', '434'], ['basnage', '1', '16', '439'], ['basnage', '1', '17', '443'], ['basnage', '1', '17', '443'], ['basnage', '1', '17', '443'], ['basnage', '1', '17', '443'], ['basnage', '1', '20', '532'], ['basnage', '1', '20', '532'], ['basnage', '1', '20', '532'], ['basnage', '1', '20', '532'], ['basnage', '1', '20', '532'], ['basnage', '1', '20', '532'], ['basnage', '1', '20', '533'], ['basnage', '1', '20', '534'], ['basnage', '1', '20', '541'], ['basnage', '1', '21', '551'], ['basnage', '1', '21', '551'], ['basnage', '1', '24', '617'], ['berault', '1', '2', '39'], ['berault', '1', '2', '48'], ['berault', '1', '9', '91'], ['berault', '1', '12', '253'], ['berault', '1', '12', '257'], ['berault', '1', '16', '393'], ['berault', '1', '18', '457'], ['berault', '1', '18', '459'], ['berault', '1', '21', '536'], ['berault', '1', '21', '547'], ['berault', '1', '22', '553'], ['berault', '1', '23', '561'], ['merville', '1', '9', '87'], ['pesnelle', '1', '6', '75'], ['pesnelle', '1', '6', '75'], ['pesnelle', '1', '9', '94'], ['pesnelle', '1', '9', '101'], ['pesnelle', '1', '9', '102'], ['pesnelle', '1', '9', '102'], ['pesnelle', '1', '10', '220'], ['pesnelle', '1', '12', '255'], ['pesnelle', '1', '12', '257'], ['pesnelle', '1', '12', '283'], ['pesnelle', '1', '18', '390'], ['pesnelle', '1', '24', '416'], ['pesnelle', '1', '25', '435'], ['pesnelle', '1', '26', '445'], ['pesnelle', '1', '26', '445'], ['pesnelle', '1', '26', '463'], ['pesnelle', '1', '29', '539'], ['pesnelle', '1', '29', '546'], ['pesnelle', '1', '29', '546'], ['pesnelle', '1', '29', '549'], ['pesnelle', '1', '30', '556'], ['pesnelle', '1', '30', '559'], ['pesnelle', '1', '30', '563'], ['pesnelle', '1', '31', '566'], ['pesnelle', '1', '33', '629'], ['pesnelle', '1', '33', '629'], ['terrien', '1', '1', '1'], ['terrien', '1', '1', '1'], ['terrien', '8', '94', '349']], 'philon': [['basnage', '1', '1', '1'], ['basnage', '1', '13', '334'], ['basnage', '1', '13', '334']], 'cicero': [['basnage', '1', '1', '1'], ['basnage', '1', '1', '1'], ['basnage', '1', '1', '21'], ['basnage', '1', '1', '25'], ['basnage', '1', '3', '62'], ['basnage', '1', '3', '62'], ['basnage', '1', '4', '66'], ['basnage', '1', '9', '149'], ['basnage', '1', '9', '149'], ['basnage', '1', '9', '155'], ['basnage', '1', '9', '192'], ['basnage', '1', '11', '242'], ['basnage', '1', '11', '242'], ['basnage', '1', '11', '242'], ['basnage', '1', '11', '252'], ['basnage', '1', '15', '380'], ['basnage', '1', '17', '443'], ['basnage', '1', '18', '464'], ['berault', '1', '2', '4'], ['berault', '1', '12', '242'], ['berault', '1', '18', '462'], ['berault', '1', '21', '535'], ['berault', '1', '22', '558'], ['berault', '1', '23', '561'], ['berault', '1', '23', '562'], ['berault', '1', '23', '562'], ['berault', '1', '23', '565'], ['berault', '1', '23', '575'], ['berault', '1', '27', '640'], ['pesnelle', '1', '31', '565'], ['pesnelle', '1', '33', '641'], ['terrien', '1', '1', '1'], ['terrien', '1', '1', '1'], ['terrien', '1', '1', '1'], ['terrien', '1', '1', '1'], ['terrien', '1', '1', '1'], ['terrien', '1', '1', '1'], ['terrien', '1', '1', '1'], ['terrien', '1', '1', '1'], ['terrien', '1', '1', '1'], ['terrien', '1', '1', '1'], ['terrien', '1', '1', '1'], ['terrien', '1', '1', '1'], ['terrien', '1', '1', '2'], ['terrien', '1', '1', '2'], ['terrien', '1', '4', '11'], ['terrien', '2', '10', '30'], ['terrien', '2', '14', '48'], ['terrien', '2', '14', '48'], ['terrien', '3', '19', '64'], ['terrien', '3', '19', '80'], ['terrien', '6', '76', '301'], ['terrien', '6', '77', '302'], ['terrien', '8', '111', '406'], ['terrien', '8', '111', '406'], ['terrien', '8', '121', '433'], ['terrien', '9', '123', '444'], ['terrien', '9', '123', '444'], ['terrien', '9', '149', '536'], ['terrien', '9', '155', '567'], ['terrien', '9', '155', '567'], ['terrien', '10', '162', '598'], ['terrien', '10', '162', '598'], ['terrien', '10', '162', '598'], ['terrien', '10', '162', '598'], ['terrien', '10', '162', '598'], ['terrien', '10', '162', '598'], ['terrien', '11', '175', '685'], ['terrien', '12', '191', '725'], ['terrien', '12', '196', '734'], ['terrien', '12', '215', '806'], ['terrien', '15', '254', '1001']], 'quintilien': [['basnage', '1', '1', '1'], ['basnage', '1', '15', '380'], ['basnage', '1', '15', '399'], ['berault', '1', '2', '24'], ['terrien', '1', '1', '1']], 'pline': [['basnage', '1', '1', '1'], ['basnage', '1', '9', '150'], ['basnage', '1', '9', '150'], ['basnage', '1', '9', '215'], ['basnage', '1', '15', '386'], ['basnage', '1', '15', '398'], ['berault', '1', '8', '89'], ['berault', '1', '12', '243'], ['berault', '1', '16', '393'], ['berault', '1', '16', '393'], ['berault', '1', '16', '393'], ['berault', '1', '26', '614'], ['terrien', '1', '1', '1'], ['terrien', '1', '1', '1'], ['terrien', '4', '42', '221'], ['terrien', '4', '42', '221'], ['terrien', '4', '42', '221'], ['terrien', '5', '70', '284'], ['terrien', '10', '162', '598'], ['terrien', '12', '221', '855'], ['terrien', '12', '221', '855'], ['terrien', '12', '221', '855'], ['terrien', '14', '238', '932'], ['terrien', '14', '240', '945'], ['terrien', '14', '240', '945']], 'tacite': [['basnage', '1', '1', '1'], ['basnage', '1', '1', '22'], ['basnage', '1', '1', '49'], ['basnage', '1', '9', '156'], ['basnage', '1', '9', '211'], ['basnage', '1', '11', '257'], ['basnage', '1', '12', '286'], ['basnage', '1', '15', '377'], ['basnage', '1', '15', '400'], ['berault', '1', '2', '3'], ['berault', '1', '2', '50'], ['berault', '1', '11', '235'], ['berault', '1', '12', '258'], ['berault', '1', '16', '405'], ['berault', '1', '17', '423'], ['berault', '1', '18', '462'], ['pesnelle', '1', '12', '257'], ['pesnelle', '1', '18', '379'], ['pesnelle', '1', '25', '425'], ['pesnelle', '1', '25', '425'], ['pesnelle', '1', '27', '466'], ['terrien', '5', '61', '270'], ['terrien', '12', '221', '855']], 'scipion': [['basnage', '1', '1', '1'], ['basnage', '1', '1', '12'], ['basnage', '1', '9', '151'], ['basnage', '1', '15', '380']], 'pausanias': [['basnage', '1', '1', '3'], ['terrien', '14', '240', '945']], 'salvian': [['basnage', '1', '1', '3'], ['basnage', '1', '1', '32'], ['basnage', '1', '17', '443']], 'papinien': [['basnage', '1', '1', '3'], ['basnage', '1', '9', '150'], ['basnage', '1', '10', '224'], ['basnage', '1', '11', '242'], ['basnage', '1', '11', '242'], ['basnage', '1', '11', '242'], ['basnage', '1', '11', '242'], ['basnage', '1', '11', '242'], ['basnage', '1', '11', '242'], ['basnage', '1', '11', '242'], ['basnage', '1', '11', '242'], ['basnage', '1', '11', '242'], ['basnage', '1', '11', '242'], ['basnage', '1', '11', '242'], ['basnage', '1', '11', '242'], ['basnage', '1', '11', '242'], ['basnage', '1', '11', '242'], ['basnage', '1', '11', '242'], ['basnage', '1', '11', '242'], ['basnage', '1', '11', '242'], ['basnage', '1', '11', '242'], ['basnage', '1', '11', '254'], ['basnage', '1', '15', '380'], ['basnage', '1', '15', '388'], ['basnage', '1', '15', '393'], ['basnage', '1', '15', '400'], ['basnage', '1', '15', '402'], ['basnage', '1', '15', '406'], ['basnage', '1', '15', '410'], ['basnage', '1', '15', '410'], ['basnage', '1', '15', '421'], ['basnage', '1', '15', '421'], ['basnage', '1', '15', '421'], ['basnage', '1', '15', '421'], ['basnage', '1', '16', '424'], ['basnage', '1', '16', '424'], ['basnage', '1', '16', '424'], ['basnage', '1', '16', '424'], ['basnage', '1', '16', '439'], ['basnage', '1', '16', '439'], ['basnage', '1', '17', '443'], ['basnage', '1', '17', '447'], ['basnage', '1', '17', '447'], ['basnage', '1', '17', '460'], ['basnage', '1', '17', '463'], ['basnage', '1', '18', '491'], ['basnage', '1', '18', '499'], ['basnage', '1', '18', '514'], ['basnage', '1', '19', '518'], ['basnage', '1', '19', '518'], ['basnage', '1', '19', '518'], ['basnage', '1', '19', '522'], ['basnage', '1', '19', '526'], ['basnage', '1', '24', '618'], ['berault', '1', '12', '283'], ['berault', '1', '16', '393'], ['berault', '1', '21', '537'], ['berault', '1', '22', '553'], ['pesnelle', '1', '33', '641']], 'aristote': [['basnage', '1', '1', '3'], ['basnage', '1', '9', '156'], ['basnage', '1', '11', '242'], ['basnage', '1', '11', '242'], ['basnage', '1', '15', '380'], ['basnage', '1', '15', '380'], ['basnage', '1', '15', '380'], ['basnage', '1', '15', '380'], ['basnage', '1', '15', '400'], ['basnage', '1', '15', '419'], ['basnage', '1', '16', '423'], ['basnage', '1', '17', '443'], ['basnage', '1', '21', '551'], ['terrien', '1', '1', '2'], ['terrien', '1', '1', '2'], ['terrien', '1', '1', '2'], ['terrien', '1', '1', '2'], ['terrien', '2', '14', '48'], ['terrien', '2', '14', '48'], ['terrien', '11', '175', '685'], ['terrien', '11', '175', '685']], 'lampride': [['basnage', '1', '1', '9'], ['berault', '1', '2', '21'], ['berault', '1', '10', '161'], ['berault', '1', '11', '235']], 'homere': [['basnage', '1', '1', '12'], ['basnage', '1', '11', '242'], ['basnage', '1', '11', '242'], ['basnage', '1', '11', '242'], ['berault', '1', '2', '13'], ['berault', '1', '2', '39'], ['berault', '1', '17', '423'], ['terrien', '12', '202', '745']], 'virgile': [['basnage', '1', '1', '12'], ['basnage', '1', '9', '149'], ['basnage', '1', '9', '215'], ['basnage', '1', '9', '215'], ['basnage', '1', '11', '256'], ['berault', '1', '10', '132'], ['pesnelle', '1', '19', '404'], ['terrien', '1', '1', '1'], ['terrien', '12', '202', '746'], ['terrien', '14', '245', '952']], 'caesar': [['basnage', '1', '1', '13'], ['basnage', '1', '1', '32'], ['basnage', '1', '9', '149'], ['basnage', '1', '9', '216'], ['basnage', '1', '13', '338'], ['berault', '1', '11', '237'], ['berault', '1', '13', '294'], ['berault', '1', '16', '377'], ['pesnelle', '1', '31', '565'], ['terrien', '3', '17', '57'], ['terrien', '9', '127', '473']], 's-germain': [['basnage', '1', '1', '13'], ['basnage', '1', '11', '252']], 'tertullien': [['basnage', '1', '1', '13'], ['basnage', '1', '9', '105'], ['basnage', '1', '11', '254'], ['basnage', '1', '15', '380'], ['basnage', '1', '15', '398'], ['basnage', '1', '16', '424'], ['basnage', '1', '22', '559'], ['basnage', '1', '24', '615'], ['terrien', '6', '72', '291'], ['terrien', '6', '72', '291']], 'artemidore': [['basnage', '1', '1', '13']], 'ulpien': [['basnage', '1', '1', '25'], ['basnage', '1', '3', '63'], ['basnage', '1', '3', '63'], ['basnage', '1', '9', '211'], ['basnage', '1', '11', '242'], ['basnage', '1', '11', '242'], ['basnage', '1', '11', '242'], ['basnage', '1', '11', '242'], ['basnage', '1', '11', '242'], ['basnage', '1', '11', '242'], ['basnage', '1', '15', '380'], ['basnage', '1', '15', '380'], ['basnage', '1', '15', '380'], ['basnage', '1', '15', '386'], ['basnage', '1', '15', '388'], ['basnage', '1', '15', '388'], ['basnage', '1', '15', '402'], ['basnage', '1', '16', '424'], ['basnage', '1', '16', '425'], ['basnage', '1', '16', '426'], ['basnage', '1', '16', '426'], ['basnage', '1', '16', '426'], ['basnage', '1', '16', '434'], ['basnage', '1', '16', '434'], ['basnage', '1', '17', '458'], ['basnage', '1', '20', '535'], ['basnage', '1', '23', '603'], ['basnage', '1', '23', '603'], ['basnage', '1', '24', '616'], ['basnage', '1', '24', '616'], ['basnage', '1', '24', '629'], ['berault', '1', '10', '212'], ['berault', '1', '10', '212'], ['berault', '1', '12', '243'], ['berault', '1', '12', '243'], ['berault', '1', '27', '626'], ['pesnelle', '1', '12', '243'], ['pesnelle', '1', '24', '414'], ['pesnelle', '1', '33', '641'], ['pesnelle', '1', '33', '643'], ['terrien', '1', '1', '1'], ['terrien', '1', '1', '1'], ['terrien', '1', '1', '1'], ['terrien', '12', '207', '769'], ['terrien', '14', '239', '943']], 'diocletien': [['basnage', '1', '1', '32'], ['basnage', '1', '11', '242'], ['basnage', '1', '11', '242'], ['basnage', '1', '11', '242'], ['terrien', '8', '121', '433']], 'diod': [['basnage', '1', '2', '55'], ['basnage', '1', '23', '603']], 'seneca': [['basnage', '1', '2', '55'], ['basnage', '1', '9', '156'], ['basnage', '1', '9', '215'], ['basnage', '1', '11', '252'], ['basnage', '1', '13', '334'], ['basnage', '1', '15', '388'], ['basnage', '1', '19', '531'], ['berault', '1', '2', '50'], ['berault', '1', '10', '155'], ['merville', '1', '12', '277'], ['merville', '1', '15', '354'], ['pesnelle', '1', '29', '548'], ['terrien', '12', '216', '815']], 'terence': [['basnage', '1', '2', '56'], ['basnage', '1', '9', '174'], ['basnage', '1', '15', '380'], ['basnage', '1', '17', '443'], ['basnage', '1', '18', '481'], ['basnage', '1', '21', '550'], ['berault', '1', '3', '55']], 'horace': [['basnage', '1', '2', '56'], ['terrien', '8', '108', '384'], ['terrien', '12', '204', '754'], ['terrien', '12', '204', '754']], 'tite-live': [['basnage', '1', '3', '62'], ['basnage', '1', '9', '149'], ['berault', '1', '2', '1'], ['berault', '1', '2', '10']], 'spartian': [['basnage', '1', '5', '73']], 'gelase': [['basnage', '1', '5', '74'], ['basnage', '1', '5', '74'], ['basnage', '1', '5', '74'], ['basnage', '1', '5', '74'], ['basnage', '1', '5', '74']], 'greg-1': [['basnage', '1', '5', '74'], ['basnage', '1', '11', '242'], ['basnage', '1', '11', '242'], ['basnage', '1', '11', '242'], ['berault', '1', '2', '48'], ['pesnelle', '1', '10', '130']], 'thucydide': [['basnage', '1', '5', '74']], 'honorius': [['basnage', '1', '9', '105'], ['basnage', '1', '9', '215'], ['basnage', '1', '11', '242'], ['basnage', '1', '11', '242'], ['basnage', '1', '11', '242'], ['berault', '1', '18', '459']], 'arcadius': [['basnage', '1', '9', '105'], ['basnage', '1', '9', '215'], ['basnage', '1', '11', '242'], ['basnage', '1', '11', '242'], ['basnage', '1', '11', '242'], ['basnage', '1', '11', '242']], 'vopiscus': [['basnage', '1', '9', '105']], 'augustin': [['basnage', '1', '9', '105'], ['basnage', '1', '9', '149'], ['basnage', '1', '11', '242'], ['basnage', '1', '11', '242'], ['basnage', '1', '11', '242'], ['basnage', '1', '11', '242'], ['basnage', '1', '11', '242'], ['basnage', '1', '11', '242'], ['basnage', '1', '11', '242'], ['basnage', '1', '11', '242'], ['basnage', '1', '11', '242'], ['basnage', '1', '14', '367'], ['basnage', '1', '15', '402'], ['basnage', '1', '21', '554'], ['berault', '1', '10', '157'], ['berault', '1', '12', '257'], ['berault', '1', '13', '287'], ['berault', '1', '17', '434'], ['berault', '1', '27', '639'], ['terrien', '1', '1', '1'], ['terrien', '1', '1', '1'], ['terrien', '4', '44', '226'], ['terrien', '12', '185', '715'], ['terrien', '12', '207', '770']], 'modestin': [['basnage', '1', '9', '147'], ['basnage', '1', '9', '150'], ['basnage', '1', '11', '241'], ['basnage', '1', '11', '242'], ['basnage', '1', '16', '426'], ['basnage', '1', '16', '434'], ['basnage', '1', '16', '434'], ['basnage', '1', '16', '434']], 'denis-le-petit': [['basnage', '1', '9', '147']], 'saluste': [['basnage', '1', '9', '149'], ['basnage', '1', '9', '149'], ['basnage', '1', '11', '244'], ['berault', '1', '2', '39']], 'fortunat': [['basnage', '1', '9', '149']], 'heliodore': [['basnage', '1', '9', '149']], 'servius': [['basnage', '1', '9', '149'], ['basnage', '1', '22', '599'], ['berault', '1', '2', '13'], ['terrien', '12', '209', '784']], 'curtius': [['basnage', '1', '9', '156']], 'martial': [['basnage', '1', '9', '156'], ['basnage', '1', '11', '242'], ['terrien', '9', '155', '562'], ['terrien', '12', '221', '855']], 'halic': [['basnage', '1', '9', '174'], ['basnage', '1', '9', '175'], ['basnage', '1', '15', '380'], ['berault', '1', '2', '40'], ['berault', '1', '10', '132'], ['berault', '1', '10', '175']], 'suetone': [['basnage', '1', '9', '175'], ['basnage', '1', '11', '242'], ['basnage', '1', '16', '434'], ['berault', '1', '2', '21'], ['berault', '1', '8', '90'], ['terrien', '12', '216', '815'], ['terrien', '14', '245', '952']], 's-paul': [['basnage', '1', '9', '177'], ['basnage', '1', '15', '388'], ['basnage', '1', '15', '388'], ['basnage', '1', '15', '388'], ['basnage', '1', '15', '388'], ['basnage', '1', '15', '388'], ['berault', '1', '11', '234'], ['berault', '1', '12', '283'], ['berault', '1', '16', '388'], ['pesnelle', '1', '25', '432'], ['terrien', '1', '1', '1'], ['terrien', '1', '1', '1'], ['terrien', '2', '5', '12'], ['terrien', '4', '57', '257'], ['terrien', '8', '110', '402']], 'aulus': [['basnage', '1', '9', '215'], ['basnage', '1', '11', '242'], ['basnage', '1', '11', '242'], ['basnage', '1', '15', '402'], ['basnage', '1', '15', '406'], ['basnage', '1', '15', '406'], ['berault', '1', '10', '132'], ['terrien', '12', '196', '734'], ['terrien', '12', '196', '734'], ['terrien', '12', '202', '745']], 'plaute': [['basnage', '1', '9', '215'], ['basnage', '1', '11', '242'], ['basnage', '1', '15', '380'], ['basnage', '1', '15', '385'], ['basnage', '1', '15', '385'], ['basnage', '1', '21', '549'], ['berault', '1', '3', '55'], ['berault', '1', '16', '402'], ['terrien', '12', '190', '721']], 'zenon': [['basnage', '1', '9', '215']], 'platon': [['basnage', '1', '9', '215'], ['basnage', '1', '11', '248'], ['basnage', '1', '15', '380'], ['basnage', '1', '15', '380'], ['basnage', '1', '15', '380'], ['basnage', '1', '15', '380'], ['basnage', '1', '15', '380'], ['basnage', '1', '15', '380'], ['basnage', '1', '15', '419'], ['basnage', '1', '16', '423'], ['berault', '1', '2', '1'], ['berault', '1', '2', '33'], ['berault', '1', '2', '39'], ['berault', '1', '10', '176'], ['berault', '1', '10', '215'], ['berault', '1', '11', '234'], ['berault', '1', '12', '245'], ['berault', '1', '17', '424'], ['berault', '1', '17', '434'], ['terrien', '3', '19', '78'], ['terrien', '4', '53', '250'], ['terrien', '4', '57', '257']], 'solon': [['basnage', '1', '11', '241'], ['basnage', '1', '11', '241'], ['basnage', '1', '13', '312'], ['basnage', '1', '15', '380'], ['basnage', '1', '15', '385'], ['basnage', '1', '16', '423'], ['basnage', '1', '24', '617'], ['berault', '1', '12', '258'], ['berault', '1', '17', '424'], ['berault', '1', '17', '434'], ['berault', '1', '17', '434'], ['berault', '1', '18', '447'], ['berault', '1', '18', '447'], ['berault', '1', '27', '626'], ['berault', '1', '27', '626'], ['terrien', '12', '196', '734']], 'basile': [['basnage', '1', '11', '242'], ['basnage', '1', '11', '242'], ['basnage', '1', '11', '242'], ['basnage', '1', '20', '532']], 'leon-pape': [['basnage', '1', '11', '242'], ['basnage', '1', '11', '242'], ['basnage', '1', '11', '242'], ['basnage', '1', '15', '380']], 'ambroise': [['basnage', '1', '11', '242'], ['basnage', '1', '11', '242'], ['basnage', '1', '11', '242'], ['basnage', '1', '11', '242'], ['basnage', '1', '15', '380'], ['berault', '1', '12', '242'], ['berault', '1', '18', '447'], ['terrien', '4', '57', '257']], 'maximien': [['basnage', '1', '11', '242'], ['terrien', '8', '121', '433']], 'anast': [['basnage', '1', '11', '242'], ['basnage', '1', '11', '242'], ['berault', '1', '22', '553']], 'greg-3': [['basnage', '1', '11', '242'], ['basnage', '1', '11', '242']], 'cassiod': [['basnage', '1', '11', '242'], ['basnage', '1', '15', '388'], ['berault', '1', '2', '25'], ['berault', '1', '2', '28'], ['berault', '1', '2', '28'], ['berault', '1', '10', '131'], ['berault', '1', '10', '217'], ['berault', '1', '11', '230'], ['berault', '1', '23', '563'], ['pesnelle', '1', '10', '220']], 'firmicus': [['basnage', '1', '11', '242']], 'clem-alex': [['basnage', '1', '11', '242']], 'xenophon': [['basnage', '1', '11', '242'], ['basnage', '1', '11', '242'], ['terrien', '12', '221', '855']], 'plutarque': [['basnage', '1', '11', '242'], ['basnage', '1', '15', '398'], ['basnage', '1', '24', '617'], ['berault', '1', '2', '13'], ['berault', '1', '2', '21'], ['berault', '1', '2', '39'], ['berault', '1', '2', '39'], ['berault', '1', '8', '87'], ['berault', '1', '10', '113'], ['berault', '1', '10', '130'], ['berault', '1', '10', '130'], ['berault', '1', '10', '132'], ['berault', '1', '12', '258'], ['berault', '1', '16', '388'], ['berault', '1', '17', '424'], ['berault', '1', '18', '447'], ['berault', '1', '27', '626'], ['pesnelle', '1', '18', '379'], ['terrien', '1', '1', '1'], ['terrien', '1', '1', '2'], ['terrien', '4', '46', '229'], ['terrien', '9', '155', '567'], ['terrien', '11', '175', '685'], ['terrien', '12', '204', '755'], ['terrien', '12', '221', '855'], ['terrien', '12', '221', '855']], 'hypocrate': [['basnage', '1', '11', '242']], 'hermogenien': [['basnage', '1', '11', '242']], 'celse': [['basnage', '1', '11', '267'], ['basnage', '1', '22', '587'], ['basnage', '1', '24', '616'], ['berault', '1', '10', '130'], ['berault', '1', '12', '243'], ['berault', '1', '21', '536'], ['berault', '1', '22', '553'], ['terrien', '4', '37', '199']], 'ammian': [['basnage', '1', '12', '286'], ['basnage', '1', '12', '286'], ['berault', '1', '2', '24']], 'herodote': [['basnage', '1', '12', '286'], ['berault', '1', '10', '157'], ['berault', '1', '12', '283']], 'paulus': [['basnage', '1', '12', '304'], ['basnage', '1', '15', '380'], ['basnage', '1', '15', '380'], ['basnage', '1', '15', '380'], ['basnage', '1', '15', '380'], ['basnage', '1', '15', '380'], ['basnage', '1', '15', '387'], ['basnage', '1', '15', '405'], ['basnage', '1', '16', '424'], ['basnage', '1', '16', '426'], ['basnage', '1', '16', '434'], ['basnage', '1', '20', '535'], ['basnage', '1', '20', '535'], ['basnage', '1', '20', '535'], ['basnage', '1', '20', '535'], ['basnage', '1', '20', '535'], ['basnage', '1', '22', '599'], ['basnage', '1', '23', '603'], ['pesnelle', '1', '29', '545'], ['terrien', '1', '1', '1'], ['terrien', '2', '10', '30'], ['terrien', '2', '12', '38'], ['terrien', '7', '81', '322'], ['terrien', '10', '171', '673'], ['terrien', '10', '172', '674'], ['terrien', '12', '207', '769'], ['terrien', '12', '207', '769'], ['terrien', '12', '207', '769'], ['terrien', '12', '209', '785']], 'appo': [['basnage', '1', '13', '338']], 'ennius': [['basnage', '1', '15', '380']], 'catulle': [['basnage', '1', '15', '380'], ['basnage', '1', '15', '398']], 'neratius': [['basnage', '1', '15', '384'], ['basnage', '1', '15', '384'], ['basnage', '1', '15', '384'], ['terrien', '12', '202', '745']], 'lycurgue': [['basnage', '1', '15', '385']], 'silius': [['basnage', '1', '15', '402']], 'caton': [['basnage', '1', '15', '406'], ['basnage', '1', '15', '406'], ['berault', '1', '12', '257']], 'aristophane': [['basnage', '1', '16', '431']], 'labeon': [['basnage', '1', '16', '434'], ['basnage', '1', '16', '434'], ['basnage', '1', '17', '447'], ['basnage', '1', '17', '458'], ['basnage', '1', '19', '518'], ['basnage', '1', '19', '518'], ['basnage', '1', '22', '591'], ['basnage', '1', '24', '615'], ['basnage', '1', '24', '615'], ['basnage', '1', '24', '617'], ['berault', '1', '10', '130'], ['berault', '1', '20', '520'], ['berault', '1', '27', '639'], ['terrien', '14', '239', '943']], 'clement-1': [['basnage', '1', '20', '533']], 'pompeius': [['basnage', '1', '24', '617']], 'siculus': [['basnage', '1', '24', '629'], ['basnage', '1', '24', '629']], 'severe': [['berault', '1', '2', '21'], ['berault', '1', '10', '161'], ['berault', '1', '10', '161'], ['terrien', '1', '1', '1'], ['terrien', '3', '20', '83']], 'arist': [['berault', '1', '2', '39'], ['berault', '1', '10', '131'], ['berault', '1', '11', '234'], ['berault', '1', '16', '393'], ['berault', '1', '17', '434'], ['berault', '1', '23', '561']], 'inno-1': [['berault', '1', '16', '388']], 'velleius': [['berault', '1', '27', '634']], 'pomponius': [['terrien', '12', '207', '769']]}\n"
     ]
    }
   ],
   "source": [
    "# Start a general dictionary to store any mention information.\n",
    "mentions = {}\n",
    "\n",
    "# Once again loop on witnesses and construct path from initial vars,\n",
    "# then trigger the get_refs() function to collect mention information.\n",
    "for witness in witnesses:\n",
    "    fullpath = binpath + witness + einpath\n",
    "    get_refs(witness, fullpath, final.keys())\n",
    "\n",
    "# Show the obtained dict. for checking.\n",
    "print(mentions)"
   ]
  },
  {
   "cell_type": "code",
   "execution_count": 48,
   "id": "bd5a5d06",
   "metadata": {},
   "outputs": [
    {
     "name": "stdout",
     "output_type": "stream",
     "text": [
      "appius-claudius \n",
      " {'earliest-birth': '-0399', 'latest-birth': '-0300', 'earliest-death': '-0299', 'latest-death': '-0200', 'name': 'Appius Claudius Caecus'} \n",
      "\n"
     ]
    }
   ],
   "source": [
    "# Write compilation CSV.\n",
    "initial_csv(mentions, final)\n",
    "author_csv(final, authortable)"
   ]
  }
 ],
 "metadata": {
  "kernelspec": {
   "display_name": "Python 3 (ipykernel)",
   "language": "python",
   "name": "python3"
  },
  "language_info": {
   "codemirror_mode": {
    "name": "ipython",
    "version": 3
   },
   "file_extension": ".py",
   "mimetype": "text/x-python",
   "name": "python",
   "nbconvert_exporter": "python",
   "pygments_lexer": "ipython3",
   "version": "3.9.7"
  }
 },
 "nbformat": 4,
 "nbformat_minor": 5
}
