{
 "cells": [
  {
   "cell_type": "markdown",
   "id": "6c82c430",
   "metadata": {},
   "source": [
    "[Gantt with plotly](https://plotly.com/python/gantt/)\n",
    "* for loop on author, create additional dict\n",
    "* if author has fixed dates, one entry (param \"sure\")\n",
    "* if author has uncertain dates, one entry for uncertain birth span (param \"uncertain\"), one entry for sure life (param \"sure\"), one entry for uncertain death span (param \"uncertain\")\n",
    "* param \"sure\" = full bar - param \"uncertain\" = stripes\n",
    "* color according to total number of mentions?"
   ]
  },
  {
   "cell_type": "code",
   "execution_count": 1,
   "id": "e9b2fafa",
   "metadata": {},
   "outputs": [
    {
     "name": "stdout",
     "output_type": "stream",
     "text": [
      "['ID', 'Auteur', 'BnF', 'IdRef', 'Naissance (min)', 'Naissance (max)', 'Mort (min)', 'Mort (max)', 'N°', 'Témoin', 'Contexte G', 'Mention', 'Contexte D', 'Paragraphe', 'Partie', 'Chapitre', 'Section']\n"
     ]
    }
   ],
   "source": [
    "import numpy as np\n",
    "import pandas as pd\n",
    "\n",
    "author_orig = pd.read_csv(\"output/20220901_1118/all_classic_occurrences_20220901_1118.csv\")\n",
    "print(list(author_orig))"
   ]
  },
  {
   "cell_type": "code",
   "execution_count": 4,
   "id": "feae3573",
   "metadata": {},
   "outputs": [],
   "source": [
    "# Get location of mentions and add count of mention in each.\n",
    "no_quote = author_orig[['ID', 'Auteur', 'Naissance (min)', 'Naissance (max)', 'Mort (min)', 'Mort (max)', 'Témoin', 'Partie', 'Chapitre', 'Section']]\n",
    "no_quote_new = no_quote.groupby(no_quote.columns.tolist(), as_index=False).size()\n",
    "\n",
    "# Get mentionning author and add cound of mention for each.\n",
    "by_custAuthor = author_orig[['ID', 'Auteur', 'Naissance (min)', 'Naissance (max)', 'Mort (min)', 'Mort (max)', 'Témoin']]\n",
    "by_custAuthor_new = by_custAuthor.groupby(by_custAuthor.columns.tolist(), as_index=False).size()\n",
    "\n",
    "# Get mentionned authors and add count of mentions for each.\n",
    "authors = author_orig[['ID', 'Auteur', 'Naissance (min)', 'Naissance (max)', 'Mort (min)', 'Mort (max)']]\n",
    "authors_new = authors.groupby(authors.columns.tolist(), as_index=False).size()"
   ]
  },
  {
   "cell_type": "raw",
   "id": "f69e7786",
   "metadata": {},
   "source": [
    "# Export results\n",
    "\n",
    "# Get current time\n",
    "dt = datetime.now()\n",
    "tmsp = dt.strftime(\"%Y%m%d_%H%M\")\n",
    "\n",
    "\n",
    "# Construct the path for outputs. \n",
    "current_dir = os.getcwd()\n",
    "new_dir = f\"{current_dir}/output/{tmsp}\"\n",
    "os.mkdir(new_dir)\n"
   ]
  }
 ],
 "metadata": {
  "kernelspec": {
   "display_name": "Python 3 (ipykernel)",
   "language": "python",
   "name": "python3"
  },
  "language_info": {
   "codemirror_mode": {
    "name": "ipython",
    "version": 3
   },
   "file_extension": ".py",
   "mimetype": "text/x-python",
   "name": "python",
   "nbconvert_exporter": "python",
   "pygments_lexer": "ipython3",
   "version": "3.9.7"
  }
 },
 "nbformat": 4,
 "nbformat_minor": 5
}
