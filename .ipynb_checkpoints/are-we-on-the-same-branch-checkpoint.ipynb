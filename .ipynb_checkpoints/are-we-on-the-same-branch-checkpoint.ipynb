{
 "cells": [
  {
   "cell_type": "markdown",
   "id": "0303364e",
   "metadata": {},
   "source": [
    "Check if your script is working on the same Git branch you are."
   ]
  },
  {
   "cell_type": "code",
   "execution_count": 1,
   "id": "f51373a7",
   "metadata": {},
   "outputs": [
    {
     "name": "stdout",
     "output_type": "stream",
     "text": [
      "270\n"
     ]
    }
   ],
   "source": [
    "with open('/home/mpica/Progs/perso/CONDE/editions/base-version/basnage_base.xml') as f:\n",
    "    allofit = f.read()\n",
    "    print(allofit.count('corresp=\"#arg\"'))\n",
    "    \n",
    "    \n",
    "# 270 = ameliorations ; 273 = master"
   ]
  }
 ],
 "metadata": {
  "kernelspec": {
   "display_name": "Python 3 (ipykernel)",
   "language": "python",
   "name": "python3"
  },
  "language_info": {
   "codemirror_mode": {
    "name": "ipython",
    "version": 3
   },
   "file_extension": ".py",
   "mimetype": "text/x-python",
   "name": "python",
   "nbconvert_exporter": "python",
   "pygments_lexer": "ipython3",
   "version": "3.9.7"
  }
 },
 "nbformat": 4,
 "nbformat_minor": 5
}
