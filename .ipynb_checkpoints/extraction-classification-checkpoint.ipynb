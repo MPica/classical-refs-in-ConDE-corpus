{
 "cells": [
  {
   "cell_type": "markdown",
   "id": "7d0ef279",
   "metadata": {},
   "source": [
    "# Extraction and classification of classical references from the ConDÉ corpus\n",
    "\n",
    "Script written by Morgane Pica for a submission to the symposium [\"Lire les classiques en Normandie\"](https://rmblf.be/2022/02/04/appel-a-contribution-lire-les-classiques-en-normandie/) (oct 2022), to be written by herself and Mathieu Goux.\n",
    "\n",
    "## Imports & declarations"
   ]
  },
  {
   "cell_type": "code",
   "execution_count": 3,
   "id": "eb0b798e",
   "metadata": {},
   "outputs": [],
   "source": [
    "from tqdm.notebook import tqdm #tqdm est bibliothèque qui permet d'avoir une barre de progression\n",
    "import xml.etree.ElementTree as ET\n",
    "\n",
    "ET.register_namespace(\"\", \"http://www.tei-c.org/ns/1.0\")\n",
    "ET.register_namespace('xml','http://www.w3.org/XML/1998/namespace')\n",
    "\n",
    "# Not all witnesses were enriched with reference identification.\n",
    "witnesses = [\"basnage\",\"berault\",\"merville\",\"pesnelle\",\"terrien\"]\n",
    "binpath = \"/home/mpica/Progs/perso/CONDE/editions/base-version/\"\n",
    "einpath = \"_base.xml\"\n",
    "\n",
    "listfile = \"authors.csv\"\n",
    "tablefile = \"mentions.csv\"\n",
    "checklist = \"checklist.xml\""
   ]
  },
  {
   "cell_type": "markdown",
   "id": "e69cb1f4",
   "metadata": {},
   "source": [
    "## FUNCTION: extract authors and store in a dictionary"
   ]
  },
  {
   "cell_type": "code",
   "execution_count": 4,
   "id": "7ae311cc",
   "metadata": {},
   "outputs": [],
   "source": [
    "authors = {}\n",
    "\n",
    "def extract(witness, path):\n",
    "    print(witness)\n",
    "    \n",
    "    \"\"\"\n",
    "    Function taking the name and path to a TEI-XML text file and\n",
    "    analyzing the references, doing two things:\n",
    "        - returning an XML element named after the current witness,\n",
    "            itself containing the copy of each reference declaration,\n",
    "        - completing the general author dictionnary with new elements,\n",
    "            whether new authors or authors whose informations were\n",
    "            incomplete.\n",
    "            \n",
    "    :param witness: Name (=id) of the current witness as str (no space)\n",
    "    :param path: Path to the current witness TEI-XML file.\n",
    "    \n",
    "    \"\"\"\n",
    "    \n",
    "    # Create the witness element.\n",
    "    liste = ET.Element(witness)\n",
    "    \n",
    "    # Open and parse TEI-XML file.\n",
    "    with open(path) as filein:\n",
    "        tree = ET.parse(filein)\n",
    "        root = tree.getroot()\n",
    "        \n",
    "        # Look for all declared authors.\n",
    "        for author in tqdm(root.findall('.//{http://www.tei-c.org/ns/1.0}listPerson/{http://www.tei-c.org/ns/1.0}person')):\n",
    "            \n",
    "            # Get <birth> element.\n",
    "            fullbirth = author.find('.//{http://www.tei-c.org/ns/1.0}birth')\n",
    "            \n",
    "            try:\n",
    "                # Get current author identifier.\n",
    "                ident = author.get(\"{http://www.w3.org/XML/1998/namespace}id\")\n",
    "                \n",
    "                if ident not in authors.keys():\n",
    "                    # Create a dict. entry for the current author.\n",
    "                    authors[ident] = {}\n",
    "            \n",
    "                    try:\n",
    "                        # Get current author birthdate.\n",
    "                        \n",
    "                        if \"when\" in fullbirth.attrib.keys():\n",
    "                            authors[ident][\"mbirth\"] = \"certain\"\n",
    "                            authors[ident][\"birth\"] = fullbirth.get(\"when\")\n",
    "                        else:\n",
    "                            authors[ident][\"mbirth\"] = fullbirth.get(\"notBefore\")\n",
    "                            authors[ident][\"birth\"] = fullbirth.get(\"notAfter\")\n",
    "                            \n",
    "                    except:\n",
    "                        authors[ident][\"birth\"] = \"none\"\n",
    "                        liste.append(author)\n",
    "\n",
    "                    try:\n",
    "                        # Create a dict. to store all recorded names for current author.\n",
    "                        lg = {}\n",
    "                        \n",
    "                        # Loop on names, store their language.\n",
    "                        for name in author.findall('.//{http://www.tei-c.org/ns/1.0}persName'):\n",
    "                            namelang = name.get(\"{http://www.w3.org/XML/1998/namespace}lang\")\n",
    "                            \n",
    "                            if name.text:\n",
    "                                # If name is not split into <forename>/<surname> elements,\n",
    "                                # there is text directly into <persName> element and we\n",
    "                                # make this the current language text.\n",
    "                                lg[namelang] = name.text\n",
    "                                \n",
    "                            else:\n",
    "                                # If name is split, the order is unsure, therefore\n",
    "                                # we store each kind into its own entry\n",
    "                                # within names dict. and make a final str out of it.\n",
    "                                names = {}\n",
    "                                for nchild in name.findall('*'):\n",
    "                                    if nchild.tag == \"{http://www.tei-c.org/ns/1.0}forename\":\n",
    "                                        names[\"fn\"] = nchild.text\n",
    "                                    elif nchild.tag == \"{http://www.tei-c.org/ns/1.0}surname\":\n",
    "                                        names[\"sn\"] = nchild.text\n",
    "                                    \n",
    "                                lg[namelang] = names[\"sn\"] + \", \" + names[\"fn\"]\n",
    "                                \n",
    "                        \n",
    "                        # Setting an order of preference for final display of name:\n",
    "                        # preferably French, if not, Latin, and if neither, English.\n",
    "                        # (These are the only three name languages within the corpus.)\n",
    "                        if \"fr\" in lg.keys():\n",
    "                            authors[ident][\"name\"] = lg[\"fr\"]\n",
    "                        elif \"la\" in lg.keys():\n",
    "                            authors[ident][\"name\"] = lg[\"la\"]\n",
    "                        elif \"eng\" in lg.keys():\n",
    "                            authors[ident][\"name\"] = lg[\"eng\"]\n",
    "                            \n",
    "                    except:\n",
    "                        authors[ident][\"name\"] = \"none\"\n",
    "                        liste.append(author)\n",
    "                    \n",
    "                # If the author was recorded in a previous witness but has no name,\n",
    "                # we try to make a name string again with this witness.\n",
    "                \n",
    "                elif authors[ident][\"name\"] == \"none\":\n",
    "                    \n",
    "                    try:\n",
    "                        lg = {}\n",
    "                        for name in author.findall('.//{http://www.tei-c.org/ns/1.0}persName'):\n",
    "                            namelang = name.get(\"{http://www.w3.org/XML/1998/namespace}lang\")\n",
    "                            if name.text:\n",
    "                                lg[namelang] = name.text\n",
    "                                \n",
    "                            else:\n",
    "                                names = {}\n",
    "                                for nchild in name.findall('*'):\n",
    "                                    if nchild.tag == \"{http://www.tei-c.org/ns/1.0}forename\":\n",
    "                                        names[\"fn\"] = nchild.text\n",
    "                                    elif nchild.tag == \"{http://www.tei-c.org/ns/1.0}surname\":\n",
    "                                        names[\"sn\"] = nchild.text\n",
    "                                        \n",
    "                                lg[namelang] = names[\"sn\"] + \", \" + names[\"fn\"]\n",
    "                                                            \n",
    "                        if \"fr\" in lg.keys():\n",
    "                            authors[ident][\"name\"] = lg[\"fr\"]\n",
    "                        elif \"la\" in lg.keys():\n",
    "                            authors[ident][\"name\"] = lg[\"la\"]\n",
    "                        elif \"eng\" in lg.keys():\n",
    "                            authors[ident][\"name\"] = lg[\"eng\"]\n",
    "                            \n",
    "                    except:\n",
    "                        authors[ident][\"name\"] = \"none\"\n",
    "                        liste.append(author)\n",
    "                    \n",
    "            except:\n",
    "                continue\n",
    "    \n",
    "    return liste"
   ]
  },
  {
   "cell_type": "markdown",
   "id": "3dd642ba",
   "metadata": {},
   "source": [
    "## FUNCTION : sort extracted authors: keep those born before year 550"
   ]
  },
  {
   "cell_type": "code",
   "execution_count": 5,
   "id": "3885d1f2",
   "metadata": {},
   "outputs": [],
   "source": [
    "def sort(dico):\n",
    "    \n",
    "    \"\"\"\n",
    "    Function taking a dictionary of authors shaped like so:\n",
    "    {'authorID': {'birth':'0000', 'name':'AuthorName'}}\n",
    "    and returning the same dictionnary where all authors with a\n",
    "    number greater than 550 as a birthdate were removed.\n",
    "    \n",
    "    :param dico: dict\n",
    "    \n",
    "    \"\"\"\n",
    "    print(\"Now sorting authors.\")\n",
    "    # Looping on author identifiers (=keys of dict.)\n",
    "    for author in tqdm(dico.keys()):\n",
    "        \n",
    "        birth = authors[author][\"birth\"]\n",
    "        \n",
    "        try:\n",
    "            # If the author was born before 550, the entry is added\n",
    "            # to the new dictionary.\n",
    "            \n",
    "            if int(birth) < 550:\n",
    "                final[author] = authors[author]\n",
    "        except:\n",
    "            \n",
    "            # If there is an error (no birth date), print the author\n",
    "            # as we want to know if they are interesting now\n",
    "            # (if so, we can correct the XML itself).\n",
    "            \n",
    "            print(authors[author])\n",
    "    \n",
    "    # Show me the final dictionary to assess the data.\n",
    "    print(final)\n",
    "    \n",
    "    return final"
   ]
  },
  {
   "cell_type": "markdown",
   "id": "21cf7072",
   "metadata": {},
   "source": [
    "## Function: get locations of all references"
   ]
  },
  {
   "cell_type": "code",
   "execution_count": 18,
   "id": "f4b8e3dd",
   "metadata": {},
   "outputs": [],
   "source": [
    "def get_refs(witness, path, authors):\n",
    "    print(witness)\n",
    "    \"\"\"\n",
    "    \"\"\"\n",
    "    \n",
    "    partcount = 0\n",
    "    chptcount = 0\n",
    "    sctcount = 0\n",
    "    \n",
    "    # Open and parse TEI-XML file.\n",
    "    with open(path) as filein:\n",
    "        tree = ET.parse(filein)\n",
    "        root = tree.getroot()\n",
    "        \n",
    "        for part in tqdm(root.findall('.//{http://www.tei-c.org/ns/1.0}div[@type=\"part\"]')):\n",
    "            partcount += 1\n",
    "            \n",
    "            for chapter in part.findall('.//{http://www.tei-c.org/ns/1.0}div[@type=\"chapter\"]'):\n",
    "                chptcount += 1\n",
    "                \n",
    "                for section in chapter.findall('.//{http://www.tei-c.org/ns/1.0}div[@type=\"section\"]'):\n",
    "                    sctcount += 1\n",
    "                    \n",
    "                    for ref in section.findall('.//{http://www.tei-c.org/ns/1.0}ref'):\n",
    "                        if ref.get('corresp'):\n",
    "                            ident = ref.get('corresp').replace(\"#\",\"\")\n",
    "                            if ident in authors and ident in mentions:\n",
    "                                mentions[ident] += [witness, str(partcount), str(chptcount), str(sctcount)]\n",
    "                            elif ident in authors:\n",
    "                                mentions[ident] = [[witness, str(partcount), str(chptcount), str(sctcount)]]"
   ]
  },
  {
   "cell_type": "markdown",
   "id": "518fc898",
   "metadata": {},
   "source": [
    "## Function : make a CSV file out of all this"
   ]
  },
  {
   "cell_type": "code",
   "execution_count": null,
   "id": "2a38474e",
   "metadata": {},
   "outputs": [],
   "source": []
  },
  {
   "cell_type": "markdown",
   "id": "77b2bb19",
   "metadata": {},
   "source": [
    "## Using the previously declared functions"
   ]
  },
  {
   "cell_type": "code",
   "execution_count": 13,
   "id": "a02a0a95",
   "metadata": {},
   "outputs": [
    {
     "name": "stdout",
     "output_type": "stream",
     "text": [
      "basnage\n"
     ]
    },
    {
     "data": {
      "application/vnd.jupyter.widget-view+json": {
       "model_id": "5a3f94b4c3614b4db86156d40f9267ae",
       "version_major": 2,
       "version_minor": 0
      },
      "text/plain": [
       "  0%|          | 0/360 [00:00<?, ?it/s]"
      ]
     },
     "metadata": {},
     "output_type": "display_data"
    },
    {
     "name": "stdout",
     "output_type": "stream",
     "text": [
      "berault\n"
     ]
    },
    {
     "data": {
      "application/vnd.jupyter.widget-view+json": {
       "model_id": "10fb27a9526c4ae1a304cfe40224278b",
       "version_major": 2,
       "version_minor": 0
      },
      "text/plain": [
       "  0%|          | 0/145 [00:00<?, ?it/s]"
      ]
     },
     "metadata": {},
     "output_type": "display_data"
    },
    {
     "name": "stdout",
     "output_type": "stream",
     "text": [
      "merville\n"
     ]
    },
    {
     "data": {
      "application/vnd.jupyter.widget-view+json": {
       "model_id": "3c6f967e74524926b0ebf509e02aaaa6",
       "version_major": 2,
       "version_minor": 0
      },
      "text/plain": [
       "  0%|          | 0/38 [00:00<?, ?it/s]"
      ]
     },
     "metadata": {},
     "output_type": "display_data"
    },
    {
     "name": "stdout",
     "output_type": "stream",
     "text": [
      "pesnelle\n"
     ]
    },
    {
     "data": {
      "application/vnd.jupyter.widget-view+json": {
       "model_id": "d0bfdce0f8084388ae972084b1ffa5d9",
       "version_major": 2,
       "version_minor": 0
      },
      "text/plain": [
       "  0%|          | 0/207 [00:00<?, ?it/s]"
      ]
     },
     "metadata": {},
     "output_type": "display_data"
    },
    {
     "name": "stdout",
     "output_type": "stream",
     "text": [
      "terrien\n"
     ]
    },
    {
     "data": {
      "application/vnd.jupyter.widget-view+json": {
       "model_id": "4983ac3632ed4df8bab6b27735a97af1",
       "version_major": 2,
       "version_minor": 0
      },
      "text/plain": [
       "  0%|          | 0/92 [00:00<?, ?it/s]"
      ]
     },
     "metadata": {},
     "output_type": "display_data"
    },
    {
     "name": "stdout",
     "output_type": "stream",
     "text": [
      "Now sorting authors.\n"
     ]
    },
    {
     "data": {
      "application/vnd.jupyter.widget-view+json": {
       "model_id": "149dd76ba99f4091a121c396e880a8ac",
       "version_major": 2,
       "version_minor": 0
      },
      "text/plain": [
       "  0%|          | 0/489 [00:00<?, ?it/s]"
      ]
     },
     "metadata": {},
     "output_type": "display_data"
    },
    {
     "name": "stdout",
     "output_type": "stream",
     "text": [
      "{'birth': 'none', 'name': 'Anian'}\n",
      "{'birth': 'none', 'name': 'Herold, Johann Berthold'}\n",
      "{'birth': 'none', 'name': 'Arq.'}\n",
      "{'birth': 'none', 'name': 'Goncanus'}\n",
      "{'birth': 'none', 'name': 'Febur.'}\n",
      "{'birth': 'none', 'name': '\\u2028Michel (saint)\\u2028'}\n",
      "{'birth': 'none', 'name': 'Masurier'}\n",
      "{'birth': 'none', 'name': 'Chartier, Alexis'}\n",
      "{'birth': 'none', 'name': 'Apulée'}\n",
      "{'birth': 'none', 'name': 'Ald. Manut.'}\n",
      "{'birth': 'none', 'name': 'Frigentius'}\n",
      "{'birth': 'none', 'name': 'Fillesac'}\n",
      "{'birth': 'none', 'name': 'Isidore'}\n",
      "{'birth': 'none', 'name': 'Adrien (pape) '}\n",
      "{'birth': 'none', 'name': '\\u2028Matthieu (saint)\\u2028'}\n",
      "{'birth': 'none', 'name': 'Fortin'}\n",
      "{'birth': 'none', 'name': 'Adrien'}\n",
      "{'birth': 'none', 'name': 'Antipater de Thessalonique'}\n",
      "{'birth': 'none', 'name': 'Moïse'}\n",
      "{'birth': 'none', 'name': 'Froben'}\n",
      "{'birth': 'none', 'name': '\\u2028Thomas (saint)\\u2028'}\n",
      "{'birth': 'none', 'name': 'Josephe'}\n",
      "{'birth': 'none', 'name': 'Balduin'}\n",
      "{'birth': 'none', 'name': 'Jean-Baptiste (saint)\\u2028'}\n",
      "{'birth': 'none', 'name': 'Josué'}\n",
      "{'birth': 'none', 'name': 'Bannés'}\n",
      "{'birth': 'none', 'name': 'Évariste'}\n",
      "{'birth': 'none', 'name': 'Montholon'}\n",
      "{'birth': 'none', 'name': 'Livius'}\n",
      "{'birth': 'none', 'name': 'Bonneton'}\n",
      "{'birth': 'none', 'name': 'Bam.'}\n",
      "{'birth': 'none', 'name': 'Colombel'}\n",
      "{'birth': 'none', 'name': 'pape Lucius'}\n",
      "{'birth': 'none', 'name': 'Marcellus'}\n",
      "{'birth': 'none', 'name': 'Luc (saint)'}\n",
      "{'birth': 'none', 'name': 'Cassius'}\n",
      "{'birth': 'none', 'name': 'Angel'}\n",
      "{'birth': 'none', 'name': 'Nicephore'}\n",
      "{'birth': 'none', 'name': 'Muncer'}\n",
      "{'birth': 'none', 'name': 'Iudaus'}\n",
      "{'birth': 'none', 'name': 'Anchar'}\n",
      "{'birth': 'none', 'name': 'Galien'}\n",
      "{'birth': 'none', 'name': 'Timarchus'}\n",
      "{'birth': 'none', 'name': 'Skinner, Stephen'}\n",
      "{'birth': 'none', 'name': 'Laurière (de), Eusèbe'}\n",
      "{'birth': 'none', 'name': 'Pérard, Estienne'}\n",
      "{'birth': 'none', 'name': 'Robertson, William'}\n",
      "{'birth': 'none', 'name': 'Gillet'}\n",
      "{'birth': 'none', 'name': 'Le Camus d Houlouve, Bertrand Louis\\xa0'}\n",
      "{'birth': 'none', 'name': 'Rigord'}\n",
      "{'birth': 'none', 'name': 'Nicod'}\n",
      "{'birth': 'none', 'name': 'Duplessis, Claude'}\n",
      "{'birth': 'none', 'name': 'Chantreau'}\n",
      "{'birth': 'none', 'name': 'Gousset, Jean'}\n",
      "{'birth': 'none', 'name': 'Vedel (de), Gabriel'}\n",
      "{'birth': 'none', 'name': 'Morgues, Jacques'}\n",
      "{'birth': 'none', 'name': 'Éverard, Étienne'}\n",
      "{'birth': 'none', 'name': 'Renauldon, Joseph'}\n",
      "{'birth': 'none', 'name': 'Valentinien'}\n",
      "{'birth': 'none', 'name': 'Bertheaume'}\n",
      "{'birth': 'none', 'name': 'Maillard'}\n",
      "{'birth': 'none', 'name': 'Gouget, Nicolas'}\n",
      "{'birth': 'none', 'name': \"Avezan (d'), Jean\"}\n",
      "{'aristote': {'birth': '-0384', 'name': 'Aristote'}, 'marculphe': {'birth': '0490', 'name': 'Marculphe'}, 'justinien': {'birth': '0482', 'name': 'Justinien Ier'}, 'philon': {'birth': '-0030', 'name': \"Philon d'Alexandrie\"}, 'cicero': {'birth': '-0106', 'name': 'Cicéron'}, 'quintilien': {'birth': '0030', 'name': 'Quintilien'}, 'pline': {'birth': '0061', 'name': 'Pline le Jeune'}, 'tacite': {'birth': '0055', 'name': 'Tacite'}, 'scipion': {'birth': '-0235', 'name': \"Scipion l'Africain\"}, 'pausanias': {'birth': '?0100', 'name': 'Pausanias'}, 'salvian': {'birth': '0390', 'name': 'Salvien'}, 'papinien': {'birth': '0142', 'name': 'Papinien'}, 'arist': {'birth': '-0384', 'name': 'Aristote'}, 'lampride': {'birth': '?0300', 'name': 'Lampride'}, 'homere': {'birth': '?-0899', 'name': 'Homère'}, 'virgile': {'birth': '-0070', 'name': 'Virgile'}, 'caesar': {'birth': '-0100', 'name': 'César , Jules'}, 's-germain': {'birth': '?0490', 'name': ' Germain (saint) '}, 'tertullien': {'birth': '0155', 'name': 'Tertullien'}, 'artemidore': {'birth': '?0100', 'name': \"Artemidore d'Éphèse\"}, 'ulpien': {'birth': '0160', 'name': 'Ulpien'}, 'diocletien': {'birth': '0245', 'name': 'Dioclétien'}, 'diod': {'birth': '-0090', 'name': 'de Sicile, Diodore'}, 'seneca': {'birth': '-0004', 'name': 'Sénèque'}, 'terence': {'birth': '-0190', 'name': 'Térence'}, 'horace': {'birth': '-0065', 'name': 'Horace'}, 'tite-live': {'birth': '-0059', 'name': 'Tite-Live\\xa0'}, 'spartian': {'birth': '?0300', 'name': 'Spartianus, Aelius'}, 'pelage': {'birth': '?0500', 'name': '\\u2028Pélage Ier'}, 'gelase': {'birth': '?0400', 'name': ' Gélase Ier'}, 'greg-1': {'birth': '0540', 'name': ' Grégoire Ier'}, 'thucydide': {'birth': '-0460', 'name': 'Thucydide'}, 'honorius': {'birth': '0384', 'name': 'Honorius'}, 'arcadius': {'birth': '0377', 'name': 'Arcadius'}, 'vopiscus': {'birth': '?0200', 'name': 'Vopiscus, Flavius'}, 'augustin': {'birth': '0354', 'name': 'Augustin (saint)'}, 'modestin': {'birth': '?0200', 'name': 'none'}, 'denis-le-petit': {'birth': '0497', 'name': 'Denis le Petit'}, 'saluste': {'birth': '-0086', 'name': 'Salluste'}, 'fortunat': {'birth': '0530', 'name': 'Fortunat, Venance'}, 'heliodore': {'birth': '?0200', 'name': 'Héliodore de Larisse'}, 'servius': {'birth': '0363', 'name': 'Servius, Maurus Honoratus'}, 'curtius': {'birth': '?0000', 'name': '\\u2028 Quinte-Curce\\u2028 '}, 'martial': {'birth': '0040', 'name': 'Martial'}, 'halic': {'birth': '?0060', 'name': \"Denis d'Halicarnasse\"}, 'suetone': {'birth': '0069', 'name': 'Suétone'}, 's-paul': {'birth': '?0000', 'name': '\\u2028Paul (saint)\\u2028'}, 'aulus': {'birth': '0123', 'name': '\\u2028 Aulu-Gelle\\u2028 '}, 'plaute': {'birth': '-0254', 'name': 'Plaute'}, 'zenon': {'birth': '0430', 'name': 'Zénon'}, 'platon': {'birth': '-0427', 'name': 'Platon'}, 'solon': {'birth': '-0640', 'name': 'Solon'}, 'basile': {'birth': '0329', 'name': 'Basile de Césarée (saint)'}, 'leon-pape': {'birth': '?0390', 'name': ' Léon Ier'}, 'ambroise': {'birth': '0340', 'name': 'Ambroise (saint)'}, 'theophile': {'birth': '?0500', 'name': 'Théophile Antecessor'}, 'maximien': {'birth': '0250', 'name': 'Maximien'}, 'anast': {'birth': '0431', 'name': 'Anastase I'}, 'greg-3': {'birth': '0540', 'name': ' Grégoire III'}, 'cassiod': {'birth': '0490', 'name': 'Cassiodore'}, 'firmicus': {'birth': '?0300', 'name': 'Firmicus Maternus, Julius'}, 'clem-alex': {'birth': '0150', 'name': \"Clément d'Alexandrie\"}, 'xenophon': {'birth': '-0430', 'name': 'Xénophon'}, 'plutarque': {'birth': '0046', 'name': 'Plutarque'}, 'hypocrate': {'birth': '-0460', 'name': 'Hippocrate'}, 'hermogenien': {'birth': '?0200', 'name': 'Hermogénien'}, 'celse': {'birth': '?0100', 'name': 'Celse'}, 'ammian': {'birth': '0330', 'name': 'Ammien, Marcellin'}, 'herodote': {'birth': '-0484', 'name': 'Hérodote'}, 'paulus': {'birth': '?0100', 'name': 'Paulus'}, 'appo': {'birth': '0431', 'name': 'Apollinaire, Sidoine'}, 'ennius': {'birth': '-0239', 'name': 'Ennius, Quintus'}, 'catulle': {'birth': '-0087', 'name': 'Catulle'}, 'neratius': {'birth': '?0000', 'name': 'Neratius\\xa0Priscus\\xa0, Lucius'}, 'lycurgue': {'birth': '-0390', 'name': 'Lycurgue'}, 'silius': {'birth': '0025', 'name': 'Silius Italicus, Tiberius Catius'}, 'caton': {'birth': '-0090', 'name': 'Caton'}, 'aristophane': {'birth': '-0445', 'name': 'Aristophane'}, 'labeon': {'birth': '-0050', 'name': 'Labéon'}, 'clement-1': {'birth': '?0000', 'name': 'Clément I'}, 'pompeius': {'birth': '-0075', 'name': 'Pompée'}, 'siculus': {'birth': '?0100', 'name': 'Siculus Flaccus\\xa0'}, 'appius-claudius': {'birth': '?-0399', 'name': 'Claudius Caecus, Appius'}, 'severe': {'birth': '0208', 'name': 'Sévère, Alexandre'}, 'inno-1': {'birth': '?0300', 'name': 'Innocent I'}, 'velleius': {'birth': '-0019', 'name': 'Velleius Paterculus, Caius'}, 'pomponius': {'birth': '?0100', 'name': 'Pomponius, Sextus'}}\n"
     ]
    }
   ],
   "source": [
    "listroot = ET.Element(\"people\")\n",
    "\n",
    "for witness in witnesses:\n",
    "    fullpath = binpath + witness + einpath\n",
    "    \n",
    "    listroot.append(extract(witness, fullpath))\n",
    "\n",
    "final = {}\n",
    "\n",
    "final = sort(authors)\n",
    "\n",
    "with open(checklist, \"w\") as failures:\n",
    "    a_ecrire = ET.tostring(listroot, encoding=\"unicode\", method=\"xml\")\n",
    "    failures.write(a_ecrire)\n",
    "\n"
   ]
  },
  {
   "cell_type": "code",
   "execution_count": 19,
   "id": "2fa08764",
   "metadata": {},
   "outputs": [
    {
     "name": "stdout",
     "output_type": "stream",
     "text": [
      "basnage\n"
     ]
    },
    {
     "data": {
      "application/vnd.jupyter.widget-view+json": {
       "model_id": "b5203e56040746c49323341373f58d6c",
       "version_major": 2,
       "version_minor": 0
      },
      "text/plain": [
       "  0%|          | 0/4 [00:00<?, ?it/s]"
      ]
     },
     "metadata": {},
     "output_type": "display_data"
    },
    {
     "name": "stdout",
     "output_type": "stream",
     "text": [
      "berault\n"
     ]
    },
    {
     "data": {
      "application/vnd.jupyter.widget-view+json": {
       "model_id": "d5e84643d8164082b8104eca23c83895",
       "version_major": 2,
       "version_minor": 0
      },
      "text/plain": [
       "  0%|          | 0/6 [00:00<?, ?it/s]"
      ]
     },
     "metadata": {},
     "output_type": "display_data"
    },
    {
     "name": "stdout",
     "output_type": "stream",
     "text": [
      "merville\n"
     ]
    },
    {
     "data": {
      "application/vnd.jupyter.widget-view+json": {
       "model_id": "bfebfa044afe43b7970371325ef0a668",
       "version_major": 2,
       "version_minor": 0
      },
      "text/plain": [
       "  0%|          | 0/4 [00:00<?, ?it/s]"
      ]
     },
     "metadata": {},
     "output_type": "display_data"
    },
    {
     "name": "stdout",
     "output_type": "stream",
     "text": [
      "pesnelle\n"
     ]
    },
    {
     "data": {
      "application/vnd.jupyter.widget-view+json": {
       "model_id": "d676d70e0b074e94b2ec481ac3ff6284",
       "version_major": 2,
       "version_minor": 0
      },
      "text/plain": [
       "  0%|          | 0/3 [00:00<?, ?it/s]"
      ]
     },
     "metadata": {},
     "output_type": "display_data"
    },
    {
     "name": "stdout",
     "output_type": "stream",
     "text": [
      "terrien\n"
     ]
    },
    {
     "data": {
      "application/vnd.jupyter.widget-view+json": {
       "model_id": "96e5a9c0dd3a46dcb457668fdb9c41eb",
       "version_major": 2,
       "version_minor": 0
      },
      "text/plain": [
       "  0%|          | 0/16 [00:00<?, ?it/s]"
      ]
     },
     "metadata": {},
     "output_type": "display_data"
    },
    {
     "name": "stdout",
     "output_type": "stream",
     "text": [
      "{'marculphe': [['basnage', '1', '1', '1'], 'basnage', '1', '1', '1', 'basnage', '1', '1', '13', 'basnage', '1', '1', '13', 'basnage', '1', '1', '13', 'basnage', '1', '9', '105', 'basnage', '1', '9', '109', 'basnage', '1', '9', '109', 'basnage', '1', '9', '114', 'basnage', '1', '9', '147', 'basnage', '1', '9', '147', 'basnage', '1', '11', '241', 'basnage', '1', '11', '241', 'basnage', '1', '11', '241', 'basnage', '1', '11', '255', 'basnage', '1', '11', '265', 'basnage', '1', '11', '267', 'basnage', '1', '13', '338', 'basnage', '1', '15', '377', 'basnage', '1', '15', '377', 'basnage', '1', '15', '400', 'basnage', '1', '15', '402', 'pesnelle', '1', '2', '1', 'pesnelle', '1', '2', '18', 'pesnelle', '1', '10', '117', 'pesnelle', '1', '12', '247', 'pesnelle', '1', '12', '255', 'pesnelle', '1', '12', '267', 'pesnelle', '1', '12', '267', 'pesnelle', '1', '18', '379', 'pesnelle', '1', '18', '383', 'pesnelle', '1', '18', '383', 'pesnelle', '1', '26', '446', 'pesnelle', '1', '26', '461'], 'justinien': [['basnage', '1', '1', '1'], 'basnage', '1', '1', '1', 'basnage', '1', '1', '1', 'basnage', '1', '1', '1', 'basnage', '1', '1', '1', 'basnage', '1', '1', '13', 'basnage', '1', '1', '13', 'basnage', '1', '2', '55', 'basnage', '1', '5', '73', 'basnage', '1', '5', '73', 'basnage', '1', '5', '73', 'basnage', '1', '5', '74', 'basnage', '1', '5', '74', 'basnage', '1', '5', '74', 'basnage', '1', '5', '74', 'basnage', '1', '8', '92', 'basnage', '1', '8', '96', 'basnage', '1', '8', '98', 'basnage', '1', '9', '147', 'basnage', '1', '9', '149', 'basnage', '1', '9', '150', 'basnage', '1', '9', '150', 'basnage', '1', '9', '150', 'basnage', '1', '11', '241', 'basnage', '1', '11', '242', 'basnage', '1', '11', '242', 'basnage', '1', '11', '242', 'basnage', '1', '11', '242', 'basnage', '1', '11', '242', 'basnage', '1', '11', '242', 'basnage', '1', '11', '242', 'basnage', '1', '11', '242', 'basnage', '1', '11', '242', 'basnage', '1', '11', '242', 'basnage', '1', '11', '242', 'basnage', '1', '11', '242', 'basnage', '1', '11', '252', 'basnage', '1', '11', '254', 'basnage', '1', '11', '254', 'basnage', '1', '11', '255', 'basnage', '1', '11', '257', 'basnage', '1', '11', '257', 'basnage', '1', '11', '257', 'basnage', '1', '11', '258', 'basnage', '1', '11', '267', 'basnage', '1', '11', '282', 'basnage', '1', '11', '284', 'basnage', '1', '13', '313', 'basnage', '1', '13', '313', 'basnage', '1', '13', '320', 'basnage', '1', '13', '329', 'basnage', '1', '14', '367', 'basnage', '1', '15', '377', 'basnage', '1', '15', '377', 'basnage', '1', '15', '379', 'basnage', '1', '15', '379', 'basnage', '1', '15', '380', 'basnage', '1', '15', '380', 'basnage', '1', '15', '380', 'basnage', '1', '15', '380', 'basnage', '1', '15', '380', 'basnage', '1', '15', '380', 'basnage', '1', '15', '380', 'basnage', '1', '15', '388', 'basnage', '1', '15', '388', 'basnage', '1', '15', '393', 'basnage', '1', '15', '410', 'basnage', '1', '15', '410', 'basnage', '1', '15', '415', 'basnage', '1', '15', '416', 'basnage', '1', '16', '424', 'basnage', '1', '16', '424', 'basnage', '1', '16', '424', 'basnage', '1', '16', '425', 'basnage', '1', '16', '425', 'basnage', '1', '16', '425', 'basnage', '1', '16', '426', 'basnage', '1', '16', '434', 'basnage', '1', '16', '434', 'basnage', '1', '16', '439', 'basnage', '1', '17', '443', 'basnage', '1', '17', '443', 'basnage', '1', '17', '443', 'basnage', '1', '17', '443', 'basnage', '1', '20', '532', 'basnage', '1', '20', '532', 'basnage', '1', '20', '532', 'basnage', '1', '20', '532', 'basnage', '1', '20', '532', 'basnage', '1', '20', '532', 'basnage', '1', '20', '533', 'basnage', '1', '20', '534', 'basnage', '1', '20', '541', 'basnage', '1', '21', '551', 'basnage', '1', '21', '551', 'basnage', '1', '24', '617', 'berault', '1', '2', '39', 'berault', '1', '2', '48', 'berault', '1', '9', '91', 'berault', '1', '12', '253', 'berault', '1', '12', '257', 'berault', '1', '16', '393', 'berault', '1', '18', '457', 'berault', '1', '18', '459', 'berault', '1', '21', '536', 'berault', '1', '21', '547', 'berault', '1', '22', '553', 'berault', '1', '23', '561', 'merville', '1', '9', '87', 'pesnelle', '1', '6', '75', 'pesnelle', '1', '6', '75', 'pesnelle', '1', '9', '94', 'pesnelle', '1', '9', '101', 'pesnelle', '1', '9', '102', 'pesnelle', '1', '9', '102', 'pesnelle', '1', '10', '220', 'pesnelle', '1', '12', '255', 'pesnelle', '1', '12', '257', 'pesnelle', '1', '12', '283', 'pesnelle', '1', '18', '390', 'pesnelle', '1', '24', '416', 'pesnelle', '1', '25', '435', 'pesnelle', '1', '26', '445', 'pesnelle', '1', '26', '445', 'pesnelle', '1', '26', '463', 'pesnelle', '1', '29', '539', 'pesnelle', '1', '29', '546', 'pesnelle', '1', '29', '546', 'pesnelle', '1', '29', '549', 'pesnelle', '1', '30', '556', 'pesnelle', '1', '30', '559', 'pesnelle', '1', '30', '563', 'pesnelle', '1', '31', '566', 'pesnelle', '1', '33', '629', 'pesnelle', '1', '33', '629', 'terrien', '1', '1', '1', 'terrien', '1', '1', '1', 'terrien', '8', '94', '349'], 'philon': [['basnage', '1', '1', '1'], 'basnage', '1', '13', '334', 'basnage', '1', '13', '334'], 'cicero': [['basnage', '1', '1', '1'], 'basnage', '1', '1', '1', 'basnage', '1', '1', '21', 'basnage', '1', '1', '25', 'basnage', '1', '3', '62', 'basnage', '1', '3', '62', 'basnage', '1', '4', '66', 'basnage', '1', '9', '149', 'basnage', '1', '9', '149', 'basnage', '1', '9', '155', 'basnage', '1', '9', '192', 'basnage', '1', '11', '242', 'basnage', '1', '11', '242', 'basnage', '1', '11', '242', 'basnage', '1', '11', '252', 'basnage', '1', '15', '380', 'basnage', '1', '17', '443', 'basnage', '1', '18', '464', 'berault', '1', '2', '4', 'berault', '1', '12', '242', 'berault', '1', '18', '462', 'berault', '1', '21', '535', 'berault', '1', '22', '558', 'berault', '1', '23', '561', 'berault', '1', '23', '562', 'berault', '1', '23', '562', 'berault', '1', '23', '565', 'berault', '1', '23', '575', 'berault', '1', '27', '640', 'pesnelle', '1', '31', '565', 'pesnelle', '1', '33', '641', 'terrien', '1', '1', '1', 'terrien', '1', '1', '1', 'terrien', '1', '1', '1', 'terrien', '1', '1', '1', 'terrien', '1', '1', '1', 'terrien', '1', '1', '1', 'terrien', '1', '1', '1', 'terrien', '1', '1', '1', 'terrien', '1', '1', '1', 'terrien', '1', '1', '1', 'terrien', '1', '1', '1', 'terrien', '1', '1', '1', 'terrien', '1', '1', '2', 'terrien', '1', '1', '2', 'terrien', '1', '4', '11', 'terrien', '2', '10', '30', 'terrien', '2', '14', '48', 'terrien', '2', '14', '48', 'terrien', '3', '19', '64', 'terrien', '3', '19', '80', 'terrien', '6', '76', '301', 'terrien', '6', '77', '302', 'terrien', '8', '111', '406', 'terrien', '8', '111', '406', 'terrien', '8', '121', '433', 'terrien', '9', '123', '444', 'terrien', '9', '123', '444', 'terrien', '9', '149', '536', 'terrien', '9', '155', '567', 'terrien', '9', '155', '567', 'terrien', '10', '162', '598', 'terrien', '10', '162', '598', 'terrien', '10', '162', '598', 'terrien', '10', '162', '598', 'terrien', '10', '162', '598', 'terrien', '10', '162', '598', 'terrien', '11', '175', '685', 'terrien', '12', '191', '725', 'terrien', '12', '196', '734', 'terrien', '12', '215', '806', 'terrien', '15', '254', '1001'], 'quintilien': [['basnage', '1', '1', '1'], 'basnage', '1', '15', '380', 'basnage', '1', '15', '399', 'berault', '1', '2', '24', 'terrien', '1', '1', '1'], 'pline': [['basnage', '1', '1', '1'], 'basnage', '1', '9', '150', 'basnage', '1', '9', '150', 'basnage', '1', '9', '215', 'basnage', '1', '15', '386', 'basnage', '1', '15', '398', 'berault', '1', '8', '89', 'berault', '1', '12', '243', 'berault', '1', '16', '393', 'berault', '1', '16', '393', 'berault', '1', '16', '393', 'berault', '1', '26', '614', 'terrien', '1', '1', '1', 'terrien', '1', '1', '1', 'terrien', '4', '42', '221', 'terrien', '4', '42', '221', 'terrien', '4', '42', '221', 'terrien', '5', '70', '284', 'terrien', '10', '162', '598', 'terrien', '12', '221', '855', 'terrien', '12', '221', '855', 'terrien', '12', '221', '855', 'terrien', '14', '238', '932', 'terrien', '14', '240', '945', 'terrien', '14', '240', '945'], 'tacite': [['basnage', '1', '1', '1'], 'basnage', '1', '1', '22', 'basnage', '1', '1', '49', 'basnage', '1', '9', '156', 'basnage', '1', '9', '211', 'basnage', '1', '11', '257', 'basnage', '1', '12', '286', 'basnage', '1', '15', '377', 'basnage', '1', '15', '400', 'berault', '1', '2', '3', 'berault', '1', '2', '50', 'berault', '1', '11', '235', 'berault', '1', '12', '258', 'berault', '1', '16', '405', 'berault', '1', '17', '423', 'berault', '1', '18', '462', 'pesnelle', '1', '12', '257', 'pesnelle', '1', '18', '379', 'pesnelle', '1', '25', '425', 'pesnelle', '1', '25', '425', 'pesnelle', '1', '27', '466', 'terrien', '5', '61', '270', 'terrien', '12', '221', '855'], 'scipion': [['basnage', '1', '1', '1'], 'basnage', '1', '1', '12', 'basnage', '1', '9', '151', 'basnage', '1', '15', '380'], 'pausanias': [['basnage', '1', '1', '3'], 'terrien', '14', '240', '945'], 'salvian': [['basnage', '1', '1', '3'], 'basnage', '1', '1', '32', 'basnage', '1', '17', '443'], 'papinien': [['basnage', '1', '1', '3'], 'basnage', '1', '9', '150', 'basnage', '1', '10', '224', 'basnage', '1', '11', '242', 'basnage', '1', '11', '242', 'basnage', '1', '11', '242', 'basnage', '1', '11', '242', 'basnage', '1', '11', '242', 'basnage', '1', '11', '242', 'basnage', '1', '11', '242', 'basnage', '1', '11', '242', 'basnage', '1', '11', '242', 'basnage', '1', '11', '242', 'basnage', '1', '11', '242', 'basnage', '1', '11', '242', 'basnage', '1', '11', '242', 'basnage', '1', '11', '242', 'basnage', '1', '11', '242', 'basnage', '1', '11', '242', 'basnage', '1', '11', '242', 'basnage', '1', '11', '242', 'basnage', '1', '11', '254', 'basnage', '1', '15', '380', 'basnage', '1', '15', '388', 'basnage', '1', '15', '393', 'basnage', '1', '15', '400', 'basnage', '1', '15', '402', 'basnage', '1', '15', '406', 'basnage', '1', '15', '410', 'basnage', '1', '15', '410', 'basnage', '1', '15', '421', 'basnage', '1', '15', '421', 'basnage', '1', '15', '421', 'basnage', '1', '15', '421', 'basnage', '1', '16', '424', 'basnage', '1', '16', '424', 'basnage', '1', '16', '424', 'basnage', '1', '16', '424', 'basnage', '1', '16', '439', 'basnage', '1', '16', '439', 'basnage', '1', '17', '443', 'basnage', '1', '17', '447', 'basnage', '1', '17', '447', 'basnage', '1', '17', '460', 'basnage', '1', '17', '463', 'basnage', '1', '18', '491', 'basnage', '1', '18', '499', 'basnage', '1', '18', '514', 'basnage', '1', '19', '518', 'basnage', '1', '19', '518', 'basnage', '1', '19', '518', 'basnage', '1', '19', '522', 'basnage', '1', '19', '526', 'basnage', '1', '24', '618', 'berault', '1', '12', '283', 'berault', '1', '16', '393', 'berault', '1', '21', '537', 'berault', '1', '22', '553', 'pesnelle', '1', '33', '641'], 'aristote': [['basnage', '1', '1', '3'], 'basnage', '1', '9', '156', 'basnage', '1', '11', '242', 'basnage', '1', '11', '242', 'basnage', '1', '15', '380', 'basnage', '1', '15', '380', 'basnage', '1', '15', '380', 'basnage', '1', '15', '380', 'basnage', '1', '15', '400', 'basnage', '1', '15', '419', 'basnage', '1', '16', '423', 'basnage', '1', '17', '443', 'basnage', '1', '21', '551', 'terrien', '1', '1', '2', 'terrien', '1', '1', '2', 'terrien', '1', '1', '2', 'terrien', '1', '1', '2', 'terrien', '2', '14', '48', 'terrien', '2', '14', '48', 'terrien', '11', '175', '685', 'terrien', '11', '175', '685'], 'lampride': [['basnage', '1', '1', '9'], 'berault', '1', '2', '21', 'berault', '1', '10', '161', 'berault', '1', '11', '235'], 'homere': [['basnage', '1', '1', '12'], 'basnage', '1', '11', '242', 'basnage', '1', '11', '242', 'basnage', '1', '11', '242', 'berault', '1', '2', '13', 'berault', '1', '2', '39', 'berault', '1', '17', '423', 'terrien', '12', '202', '745'], 'virgile': [['basnage', '1', '1', '12'], 'basnage', '1', '9', '149', 'basnage', '1', '9', '215', 'basnage', '1', '9', '215', 'basnage', '1', '11', '256', 'berault', '1', '10', '132', 'pesnelle', '1', '19', '404', 'terrien', '1', '1', '1', 'terrien', '12', '202', '746', 'terrien', '14', '245', '952'], 'caesar': [['basnage', '1', '1', '13'], 'basnage', '1', '1', '32', 'basnage', '1', '9', '149', 'basnage', '1', '9', '216', 'basnage', '1', '13', '338', 'berault', '1', '11', '237', 'berault', '1', '13', '294', 'berault', '1', '16', '377', 'pesnelle', '1', '31', '565', 'terrien', '3', '17', '57', 'terrien', '9', '127', '473'], 's-germain': [['basnage', '1', '1', '13'], 'basnage', '1', '11', '252'], 'tertullien': [['basnage', '1', '1', '13'], 'basnage', '1', '9', '105', 'basnage', '1', '11', '254', 'basnage', '1', '15', '380', 'basnage', '1', '15', '398', 'basnage', '1', '16', '424', 'basnage', '1', '22', '559', 'basnage', '1', '24', '615', 'terrien', '6', '72', '291', 'terrien', '6', '72', '291'], 'artemidore': [['basnage', '1', '1', '13']], 'ulpien': [['basnage', '1', '1', '25'], 'basnage', '1', '3', '63', 'basnage', '1', '3', '63', 'basnage', '1', '9', '211', 'basnage', '1', '11', '242', 'basnage', '1', '11', '242', 'basnage', '1', '11', '242', 'basnage', '1', '11', '242', 'basnage', '1', '11', '242', 'basnage', '1', '11', '242', 'basnage', '1', '15', '380', 'basnage', '1', '15', '380', 'basnage', '1', '15', '380', 'basnage', '1', '15', '386', 'basnage', '1', '15', '388', 'basnage', '1', '15', '388', 'basnage', '1', '15', '402', 'basnage', '1', '16', '424', 'basnage', '1', '16', '425', 'basnage', '1', '16', '426', 'basnage', '1', '16', '426', 'basnage', '1', '16', '426', 'basnage', '1', '16', '434', 'basnage', '1', '16', '434', 'basnage', '1', '17', '458', 'basnage', '1', '20', '535', 'basnage', '1', '23', '603', 'basnage', '1', '23', '603', 'basnage', '1', '24', '616', 'basnage', '1', '24', '616', 'basnage', '1', '24', '629', 'berault', '1', '10', '212', 'berault', '1', '10', '212', 'berault', '1', '12', '243', 'berault', '1', '12', '243', 'berault', '1', '27', '626', 'pesnelle', '1', '12', '243', 'pesnelle', '1', '24', '414', 'pesnelle', '1', '33', '641', 'pesnelle', '1', '33', '643', 'terrien', '1', '1', '1', 'terrien', '1', '1', '1', 'terrien', '1', '1', '1', 'terrien', '12', '207', '769', 'terrien', '14', '239', '943'], 'diocletien': [['basnage', '1', '1', '32'], 'basnage', '1', '11', '242', 'basnage', '1', '11', '242', 'basnage', '1', '11', '242', 'terrien', '8', '121', '433'], 'diod': [['basnage', '1', '2', '55'], 'basnage', '1', '23', '603'], 'seneca': [['basnage', '1', '2', '55'], 'basnage', '1', '9', '156', 'basnage', '1', '9', '215', 'basnage', '1', '11', '252', 'basnage', '1', '13', '334', 'basnage', '1', '15', '388', 'basnage', '1', '19', '531', 'berault', '1', '2', '50', 'berault', '1', '10', '155', 'merville', '1', '12', '277', 'merville', '1', '15', '354', 'pesnelle', '1', '29', '548', 'terrien', '12', '216', '815'], 'terence': [['basnage', '1', '2', '56'], 'basnage', '1', '9', '174', 'basnage', '1', '15', '380', 'basnage', '1', '17', '443', 'basnage', '1', '18', '481', 'basnage', '1', '21', '550', 'berault', '1', '3', '55'], 'horace': [['basnage', '1', '2', '56'], 'terrien', '8', '108', '384', 'terrien', '12', '204', '754', 'terrien', '12', '204', '754'], 'tite-live': [['basnage', '1', '3', '62'], 'basnage', '1', '9', '149', 'berault', '1', '2', '1', 'berault', '1', '2', '10'], 'spartian': [['basnage', '1', '5', '73']], 'pelage': [['basnage', '1', '5', '73']], 'gelase': [['basnage', '1', '5', '74'], 'basnage', '1', '5', '74', 'basnage', '1', '5', '74', 'basnage', '1', '5', '74', 'basnage', '1', '5', '74'], 'greg-1': [['basnage', '1', '5', '74'], 'basnage', '1', '11', '242', 'basnage', '1', '11', '242', 'basnage', '1', '11', '242', 'berault', '1', '2', '48', 'pesnelle', '1', '10', '130'], 'thucydide': [['basnage', '1', '5', '74']], 'honorius': [['basnage', '1', '9', '105'], 'basnage', '1', '9', '215', 'basnage', '1', '11', '242', 'basnage', '1', '11', '242', 'basnage', '1', '11', '242', 'berault', '1', '18', '459'], 'arcadius': [['basnage', '1', '9', '105'], 'basnage', '1', '9', '215', 'basnage', '1', '11', '242', 'basnage', '1', '11', '242', 'basnage', '1', '11', '242', 'basnage', '1', '11', '242'], 'vopiscus': [['basnage', '1', '9', '105']], 'augustin': [['basnage', '1', '9', '105'], 'basnage', '1', '9', '149', 'basnage', '1', '11', '242', 'basnage', '1', '11', '242', 'basnage', '1', '11', '242', 'basnage', '1', '11', '242', 'basnage', '1', '11', '242', 'basnage', '1', '11', '242', 'basnage', '1', '11', '242', 'basnage', '1', '11', '242', 'basnage', '1', '11', '242', 'basnage', '1', '14', '367', 'basnage', '1', '15', '402', 'basnage', '1', '21', '554', 'berault', '1', '10', '157', 'berault', '1', '12', '257', 'berault', '1', '13', '287', 'berault', '1', '17', '434', 'berault', '1', '27', '639', 'terrien', '1', '1', '1', 'terrien', '1', '1', '1', 'terrien', '4', '44', '226', 'terrien', '12', '185', '715', 'terrien', '12', '207', '770'], 'modestin': [['basnage', '1', '9', '147'], 'basnage', '1', '9', '150', 'basnage', '1', '11', '241', 'basnage', '1', '11', '242', 'basnage', '1', '16', '426', 'basnage', '1', '16', '434', 'basnage', '1', '16', '434', 'basnage', '1', '16', '434'], 'denis-le-petit': [['basnage', '1', '9', '147']], 'saluste': [['basnage', '1', '9', '149'], 'basnage', '1', '9', '149', 'basnage', '1', '11', '244', 'berault', '1', '2', '39'], 'fortunat': [['basnage', '1', '9', '149']], 'heliodore': [['basnage', '1', '9', '149']], 'servius': [['basnage', '1', '9', '149'], 'basnage', '1', '22', '599', 'berault', '1', '2', '13', 'terrien', '12', '209', '784'], 'curtius': [['basnage', '1', '9', '156']], 'martial': [['basnage', '1', '9', '156'], 'basnage', '1', '11', '242', 'terrien', '9', '155', '562', 'terrien', '12', '221', '855'], 'halic': [['basnage', '1', '9', '174'], 'basnage', '1', '9', '175', 'basnage', '1', '15', '380', 'berault', '1', '2', '40', 'berault', '1', '10', '132', 'berault', '1', '10', '175'], 'suetone': [['basnage', '1', '9', '175'], 'basnage', '1', '11', '242', 'basnage', '1', '16', '434', 'berault', '1', '2', '21', 'berault', '1', '8', '90', 'terrien', '12', '216', '815', 'terrien', '14', '245', '952'], 's-paul': [['basnage', '1', '9', '177'], 'basnage', '1', '15', '388', 'basnage', '1', '15', '388', 'basnage', '1', '15', '388', 'basnage', '1', '15', '388', 'basnage', '1', '15', '388', 'berault', '1', '11', '234', 'berault', '1', '12', '283', 'berault', '1', '16', '388', 'pesnelle', '1', '25', '432', 'terrien', '1', '1', '1', 'terrien', '1', '1', '1', 'terrien', '2', '5', '12', 'terrien', '4', '57', '257', 'terrien', '8', '110', '402'], 'aulus': [['basnage', '1', '9', '215'], 'basnage', '1', '11', '242', 'basnage', '1', '11', '242', 'basnage', '1', '15', '402', 'basnage', '1', '15', '406', 'basnage', '1', '15', '406', 'berault', '1', '10', '132', 'terrien', '12', '196', '734', 'terrien', '12', '196', '734', 'terrien', '12', '202', '745'], 'plaute': [['basnage', '1', '9', '215'], 'basnage', '1', '11', '242', 'basnage', '1', '15', '380', 'basnage', '1', '15', '385', 'basnage', '1', '15', '385', 'basnage', '1', '21', '549', 'berault', '1', '3', '55', 'berault', '1', '16', '402', 'terrien', '12', '190', '721'], 'zenon': [['basnage', '1', '9', '215']], 'platon': [['basnage', '1', '9', '215'], 'basnage', '1', '11', '248', 'basnage', '1', '15', '380', 'basnage', '1', '15', '380', 'basnage', '1', '15', '380', 'basnage', '1', '15', '380', 'basnage', '1', '15', '380', 'basnage', '1', '15', '380', 'basnage', '1', '15', '419', 'basnage', '1', '16', '423', 'berault', '1', '2', '1', 'berault', '1', '2', '33', 'berault', '1', '2', '39', 'berault', '1', '10', '176', 'berault', '1', '10', '215', 'berault', '1', '11', '234', 'berault', '1', '12', '245', 'berault', '1', '17', '424', 'berault', '1', '17', '434', 'terrien', '3', '19', '78', 'terrien', '4', '53', '250', 'terrien', '4', '57', '257'], 'solon': [['basnage', '1', '11', '241'], 'basnage', '1', '11', '241', 'basnage', '1', '13', '312', 'basnage', '1', '15', '380', 'basnage', '1', '15', '385', 'basnage', '1', '16', '423', 'basnage', '1', '24', '617', 'berault', '1', '12', '258', 'berault', '1', '17', '424', 'berault', '1', '17', '434', 'berault', '1', '17', '434', 'berault', '1', '18', '447', 'berault', '1', '18', '447', 'berault', '1', '27', '626', 'berault', '1', '27', '626', 'terrien', '12', '196', '734'], 'basile': [['basnage', '1', '11', '242'], 'basnage', '1', '11', '242', 'basnage', '1', '11', '242', 'basnage', '1', '20', '532'], 'leon-pape': [['basnage', '1', '11', '242'], 'basnage', '1', '11', '242', 'basnage', '1', '11', '242', 'basnage', '1', '15', '380'], 'ambroise': [['basnage', '1', '11', '242'], 'basnage', '1', '11', '242', 'basnage', '1', '11', '242', 'basnage', '1', '11', '242', 'basnage', '1', '15', '380', 'berault', '1', '12', '242', 'berault', '1', '18', '447', 'terrien', '4', '57', '257'], 'theophile': [['basnage', '1', '11', '242']], 'maximien': [['basnage', '1', '11', '242'], 'terrien', '8', '121', '433'], 'anast': [['basnage', '1', '11', '242'], 'basnage', '1', '11', '242', 'berault', '1', '22', '553'], 'greg-3': [['basnage', '1', '11', '242'], 'basnage', '1', '11', '242'], 'cassiod': [['basnage', '1', '11', '242'], 'basnage', '1', '15', '388', 'berault', '1', '2', '25', 'berault', '1', '2', '28', 'berault', '1', '2', '28', 'berault', '1', '10', '131', 'berault', '1', '10', '217', 'berault', '1', '11', '230', 'berault', '1', '23', '563', 'pesnelle', '1', '10', '220'], 'firmicus': [['basnage', '1', '11', '242']], 'clem-alex': [['basnage', '1', '11', '242']], 'xenophon': [['basnage', '1', '11', '242'], 'basnage', '1', '11', '242', 'terrien', '12', '221', '855'], 'plutarque': [['basnage', '1', '11', '242'], 'basnage', '1', '15', '398', 'basnage', '1', '24', '617', 'berault', '1', '2', '13', 'berault', '1', '2', '21', 'berault', '1', '2', '39', 'berault', '1', '2', '39', 'berault', '1', '8', '87', 'berault', '1', '10', '113', 'berault', '1', '10', '130', 'berault', '1', '10', '130', 'berault', '1', '10', '132', 'berault', '1', '12', '258', 'berault', '1', '16', '388', 'berault', '1', '17', '424', 'berault', '1', '18', '447', 'berault', '1', '27', '626', 'pesnelle', '1', '18', '379', 'terrien', '1', '1', '1', 'terrien', '1', '1', '2', 'terrien', '4', '46', '229', 'terrien', '9', '155', '567', 'terrien', '11', '175', '685', 'terrien', '12', '204', '755', 'terrien', '12', '221', '855', 'terrien', '12', '221', '855'], 'hypocrate': [['basnage', '1', '11', '242']], 'hermogenien': [['basnage', '1', '11', '242']], 'celse': [['basnage', '1', '11', '267'], 'basnage', '1', '22', '587', 'basnage', '1', '24', '616', 'berault', '1', '10', '130', 'berault', '1', '12', '243', 'berault', '1', '21', '536', 'berault', '1', '22', '553', 'terrien', '4', '37', '199'], 'ammian': [['basnage', '1', '12', '286'], 'basnage', '1', '12', '286', 'berault', '1', '2', '24'], 'herodote': [['basnage', '1', '12', '286'], 'berault', '1', '10', '157', 'berault', '1', '12', '283'], 'paulus': [['basnage', '1', '12', '304'], 'basnage', '1', '15', '380', 'basnage', '1', '15', '380', 'basnage', '1', '15', '380', 'basnage', '1', '15', '380', 'basnage', '1', '15', '380', 'basnage', '1', '15', '387', 'basnage', '1', '15', '405', 'basnage', '1', '16', '424', 'basnage', '1', '16', '426', 'basnage', '1', '16', '434', 'basnage', '1', '20', '535', 'basnage', '1', '20', '535', 'basnage', '1', '20', '535', 'basnage', '1', '20', '535', 'basnage', '1', '20', '535', 'basnage', '1', '22', '599', 'basnage', '1', '23', '603', 'pesnelle', '1', '29', '545', 'terrien', '1', '1', '1', 'terrien', '2', '10', '30', 'terrien', '2', '12', '38', 'terrien', '7', '81', '322', 'terrien', '10', '171', '673', 'terrien', '10', '172', '674', 'terrien', '12', '207', '769', 'terrien', '12', '207', '769', 'terrien', '12', '207', '769', 'terrien', '12', '209', '785'], 'appo': [['basnage', '1', '13', '338']], 'ennius': [['basnage', '1', '15', '380']], 'catulle': [['basnage', '1', '15', '380'], 'basnage', '1', '15', '398'], 'neratius': [['basnage', '1', '15', '384'], 'basnage', '1', '15', '384', 'basnage', '1', '15', '384', 'terrien', '12', '202', '745'], 'lycurgue': [['basnage', '1', '15', '385']], 'silius': [['basnage', '1', '15', '402']], 'caton': [['basnage', '1', '15', '406'], 'basnage', '1', '15', '406', 'berault', '1', '12', '257'], 'aristophane': [['basnage', '1', '16', '431']], 'labeon': [['basnage', '1', '16', '434'], 'basnage', '1', '16', '434', 'basnage', '1', '17', '447', 'basnage', '1', '17', '458', 'basnage', '1', '19', '518', 'basnage', '1', '19', '518', 'basnage', '1', '22', '591', 'basnage', '1', '24', '615', 'basnage', '1', '24', '615', 'basnage', '1', '24', '617', 'berault', '1', '10', '130', 'berault', '1', '20', '520', 'berault', '1', '27', '639', 'terrien', '14', '239', '943'], 'clement-1': [['basnage', '1', '20', '533']], 'pompeius': [['basnage', '1', '24', '617']], 'siculus': [['basnage', '1', '24', '629'], 'basnage', '1', '24', '629'], 'severe': [['berault', '1', '2', '21'], 'berault', '1', '10', '161', 'berault', '1', '10', '161', 'terrien', '1', '1', '1', 'terrien', '3', '20', '83'], 'arist': [['berault', '1', '2', '39'], 'berault', '1', '10', '131', 'berault', '1', '11', '234', 'berault', '1', '16', '393', 'berault', '1', '17', '434', 'berault', '1', '23', '561'], 'inno-1': [['berault', '1', '16', '388']], 'velleius': [['berault', '1', '27', '634']], 'pomponius': [['terrien', '12', '207', '769']]}\n"
     ]
    }
   ],
   "source": [
    "mentions = {}\n",
    "\n",
    "for witness in witnesses:\n",
    "    fullpath = binpath + witness + einpath\n",
    "    get_refs(witness, fullpath, final.keys())\n",
    "print(mentions)"
   ]
  },
  {
   "cell_type": "code",
   "execution_count": null,
   "id": "439fe89f",
   "metadata": {},
   "outputs": [],
   "source": []
  }
 ],
 "metadata": {
  "kernelspec": {
   "display_name": "Python 3 (ipykernel)",
   "language": "python",
   "name": "python3"
  },
  "language_info": {
   "codemirror_mode": {
    "name": "ipython",
    "version": 3
   },
   "file_extension": ".py",
   "mimetype": "text/x-python",
   "name": "python",
   "nbconvert_exporter": "python",
   "pygments_lexer": "ipython3",
   "version": "3.9.7"
  }
 },
 "nbformat": 4,
 "nbformat_minor": 5
}
