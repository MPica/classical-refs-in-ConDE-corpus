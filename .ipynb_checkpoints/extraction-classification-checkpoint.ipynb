{
 "cells": [
  {
   "cell_type": "markdown",
   "id": "7d0ef279",
   "metadata": {},
   "source": [
    "# Extraction and classification of classical references from the ConDÉ corpus\n",
    "\n",
    "Script written by Morgane Pica for a submission to the symposium [\"Lire les classiques en Normandie\"](https://rmblf.be/2022/02/04/appel-a-contribution-lire-les-classiques-en-normandie/) (oct 2022), to be written by herself and Mathieu Goux.\n",
    "\n",
    "## Imports & declarations"
   ]
  },
  {
   "cell_type": "code",
   "execution_count": 6,
   "id": "eb0b798e",
   "metadata": {},
   "outputs": [],
   "source": [
    "from tqdm.notebook import tqdm #tqdm est bibliothèque qui permet d'avoir une barre de progression\n",
    "import xml.etree.ElementTree as ET\n",
    "\n",
    "ET.register_namespace(\"\", \"http://www.tei-c.org/ns/1.0\")\n",
    "ET.register_namespace('xml','http://www.w3.org/XML/1998/namespace')\n",
    "\n",
    "# Not all witnesses were enriched with reference identification.\n",
    "witnesses = [\"basnage\",\"berault\",\"merville\",\"pesnelle\",\"terrien\"]\n",
    "binpath = \"/home/mpica/Progs/perso/CONDE/editions/base-version/\"\n",
    "einpath = \"_base.xml\"\n",
    "\n",
    "listfile = \"authors.csv\"\n",
    "tablefile = \"mentions.csv\"\n",
    "checklist = \"checklist.xml\""
   ]
  },
  {
   "cell_type": "markdown",
   "id": "e69cb1f4",
   "metadata": {},
   "source": [
    "## Extract authors and store in a dictionary"
   ]
  },
  {
   "cell_type": "code",
   "execution_count": 5,
   "id": "a02a0a95",
   "metadata": {},
   "outputs": [
    {
     "name": "stdout",
     "output_type": "stream",
     "text": [
      "basnage\n"
     ]
    },
    {
     "data": {
      "application/vnd.jupyter.widget-view+json": {
       "model_id": "b3019192521240078f4ae31d7f590371",
       "version_major": 2,
       "version_minor": 0
      },
      "text/plain": [
       "  0%|          | 0/360 [00:00<?, ?it/s]"
      ]
     },
     "metadata": {},
     "output_type": "display_data"
    },
    {
     "name": "stdout",
     "output_type": "stream",
     "text": [
      "berault\n"
     ]
    },
    {
     "data": {
      "application/vnd.jupyter.widget-view+json": {
       "model_id": "f3b931b1b04b4c10bbeb6397d16d9e29",
       "version_major": 2,
       "version_minor": 0
      },
      "text/plain": [
       "  0%|          | 0/145 [00:00<?, ?it/s]"
      ]
     },
     "metadata": {},
     "output_type": "display_data"
    },
    {
     "name": "stdout",
     "output_type": "stream",
     "text": [
      "merville\n"
     ]
    },
    {
     "data": {
      "application/vnd.jupyter.widget-view+json": {
       "model_id": "601b0ed951cf47eebe60134a84233243",
       "version_major": 2,
       "version_minor": 0
      },
      "text/plain": [
       "  0%|          | 0/38 [00:00<?, ?it/s]"
      ]
     },
     "metadata": {},
     "output_type": "display_data"
    },
    {
     "name": "stdout",
     "output_type": "stream",
     "text": [
      "pesnelle\n"
     ]
    },
    {
     "data": {
      "application/vnd.jupyter.widget-view+json": {
       "model_id": "ff977a94ddac48c3bc919409db1e252f",
       "version_major": 2,
       "version_minor": 0
      },
      "text/plain": [
       "  0%|          | 0/207 [00:00<?, ?it/s]"
      ]
     },
     "metadata": {},
     "output_type": "display_data"
    },
    {
     "name": "stdout",
     "output_type": "stream",
     "text": [
      "terrien\n"
     ]
    },
    {
     "data": {
      "application/vnd.jupyter.widget-view+json": {
       "model_id": "15d19953e7af4957a749a76db24b518f",
       "version_major": 2,
       "version_minor": 0
      },
      "text/plain": [
       "  0%|          | 0/92 [00:00<?, ?it/s]"
      ]
     },
     "metadata": {},
     "output_type": "display_data"
    },
    {
     "name": "stdout",
     "output_type": "stream",
     "text": [
      "{'birth': 'none', 'name': 'Anian'}\n",
      "{'birth': 'none', 'name': None}\n",
      "{'birth': 'none', 'name': 'Arq.'}\n",
      "{'birth': 'none', 'name': 'Goncanus'}\n",
      "{'birth': 'none', 'name': 'Febur.'}\n",
      "{'birth': 'none', 'name': '\\u2028Michel (saint)\\u2028'}\n",
      "{'birth': 'none', 'name': 'Masurier'}\n",
      "{'birth': 'none', 'name': None}\n",
      "{'birth': 'none', 'name': 'Apulée'}\n",
      "{'birth': 'none', 'name': 'Ald. Manut.'}\n",
      "{'birth': 'none', 'name': 'Frigentius'}\n",
      "{'birth': 'none', 'name': 'Fillesac'}\n",
      "{'birth': 'none', 'name': 'Isidore'}\n",
      "{'birth': 'none', 'name': 'Adrien (pape) '}\n",
      "{'birth': 'none', 'name': '\\u2028Matthieu (saint)\\u2028'}\n",
      "{'birth': 'none', 'name': 'Fortin'}\n",
      "{'birth': 'none', 'name': 'Adrien'}\n",
      "{'birth': 'none', 'name': 'Antipater de Thessalonique'}\n",
      "{'birth': 'none', 'name': 'Moïse'}\n",
      "{'birth': 'none', 'name': 'Froben'}\n",
      "{'birth': 'none', 'name': '\\u2028Thomas (saint)\\u2028'}\n",
      "{'birth': 'none', 'name': 'Josephe'}\n",
      "{'birth': 'none', 'name': 'Balduin'}\n",
      "{'birth': 'none', 'name': 'Jean-Baptiste (saint)\\u2028'}\n",
      "{'birth': 'none', 'name': 'Josué'}\n",
      "{'birth': 'none', 'name': 'Bannés'}\n",
      "{'birth': 'none', 'name': 'Évariste'}\n",
      "{'birth': 'none', 'name': 'Montholon'}\n",
      "{'birth': 'none', 'name': 'Livius'}\n",
      "{'birth': 'none', 'name': 'Bonneton'}\n",
      "{'birth': 'none', 'name': 'Bam.'}\n",
      "{'birth': 'none', 'name': 'Colombel'}\n",
      "{'birth': 'none', 'name': 'pape Lucius'}\n",
      "{'birth': 'none', 'name': 'Marcellus'}\n",
      "{'birth': 'none', 'name': 'Luc (saint)'}\n",
      "{'birth': 'none', 'name': 'Cassius'}\n",
      "{'birth': 'none', 'name': 'Angel'}\n",
      "{'birth': 'none', 'name': 'Nicephore'}\n",
      "{'birth': 'none', 'name': 'Muncer'}\n",
      "{'birth': 'none', 'name': 'Iudaus'}\n",
      "{'birth': 'none', 'name': 'Anchar'}\n",
      "{'birth': 'none', 'name': 'Galien'}\n",
      "{'birth': 'none', 'name': 'Timarchus'}\n",
      "{'birth': 'none', 'name': None}\n",
      "{'birth': 'none', 'name': None}\n",
      "{'birth': 'none', 'name': None}\n",
      "{'birth': 'none', 'name': None}\n",
      "{'birth': 'none', 'name': 'Gillet'}\n",
      "{'birth': 'none', 'name': None}\n",
      "{'birth': 'none', 'name': 'Rigord'}\n",
      "{'birth': 'none', 'name': 'Nicod'}\n",
      "{'birth': 'none', 'name': None}\n",
      "{'birth': 'none', 'name': 'Chantreau'}\n",
      "{'birth': 'none', 'name': None}\n",
      "{'birth': 'none', 'name': None}\n",
      "{'birth': 'none', 'name': None}\n",
      "{'birth': 'none', 'name': None}\n",
      "{'birth': 'none', 'name': None}\n",
      "{'birth': 'none', 'name': 'Valentinien'}\n",
      "{'birth': 'none', 'name': 'Bertheaume'}\n",
      "{'birth': 'none', 'name': 'Maillard'}\n",
      "{'birth': 'none', 'name': None}\n",
      "{'birth': 'none', 'name': None}\n",
      "{'aristote': {'birth': '-0384', 'name': 'Aristote'}, 'marculphe': {'birth': '0490', 'name': 'Marculphe'}, 'justinien': {'birth': '0482', 'name': 'Justinien Ier'}, 'philon': {'birth': '-0030', 'name': \"Philon d'Alexandrie\"}, 'cicero': {'birth': '-0106', 'name': 'Cicéron'}, 'quintilien': {'birth': '0030', 'name': 'Quintilien'}, 'pline': {'birth': '0061', 'name': 'Pline le Jeune'}, 'tacite': {'birth': '0055', 'name': 'Tacite'}, 'scipion': {'birth': '-0235', 'name': \"Scipion l'Africain\"}, 'pausanias': {'birth': '?0100', 'name': 'Pausanias'}, 'salvian': {'birth': '0390', 'name': 'Salvien'}, 'papinien': {'birth': '0142', 'name': 'Papinien'}, 'arist': {'birth': '-0384', 'name': 'Aristote'}, 'lampride': {'birth': '?0300', 'name': 'Lampride'}, 'homere': {'birth': '?-0899', 'name': 'Homère'}, 'virgile': {'birth': '-0070', 'name': 'Virgile'}, 'caesar': {'birth': '-0100', 'name': None}, 's-germain': {'birth': '?0490', 'name': ' Germain (saint) '}, 'tertullien': {'birth': '0155', 'name': 'Tertullien'}, 'artemidore': {'birth': '?0100', 'name': \"Artemidore d'Éphèse\"}, 'ulpien': {'birth': '0160', 'name': 'Ulpien'}, 'diocletien': {'birth': '0245', 'name': 'Dioclétien'}, 'diod': {'birth': '-0090', 'name': None}, 'seneca': {'birth': '-0004', 'name': 'Sénèque'}, 'terence': {'birth': '-0190', 'name': 'Térence'}, 'horace': {'birth': '-0065', 'name': 'Horace'}, 'tite-live': {'birth': '-0059', 'name': 'Tite-Live\\xa0'}, 'spartian': {'birth': '?0300', 'name': None}, 'pelage': {'birth': '?0500', 'name': '\\u2028Pélage Ier'}, 'gelase': {'birth': '?0400', 'name': ' Gélase Ier'}, 'greg-1': {'birth': '0540', 'name': ' Grégoire Ier'}, 'thucydide': {'birth': '-0460', 'name': 'Thucydide'}, 'honorius': {'birth': '0384', 'name': 'Honorius'}, 'arcadius': {'birth': '0377', 'name': 'Arcadius'}, 'vopiscus': {'birth': '?0200', 'name': None}, 'augustin': {'birth': '0354', 'name': 'Augustin (saint)'}, 'modestin': {'birth': '?0200', 'name': None}, 'denis-le-petit': {'birth': '0497', 'name': 'Denis le Petit'}, 'saluste': {'birth': '-0086', 'name': 'Salluste'}, 'fortunat': {'birth': '0530', 'name': None}, 'heliodore': {'birth': '?0200', 'name': 'Héliodore de Larisse'}, 'servius': {'birth': '0363', 'name': None}, 'curtius': {'birth': '?0000', 'name': '\\u2028 Quinte-Curce\\u2028 '}, 'martial': {'birth': '0040', 'name': 'Martial'}, 'halic': {'birth': '?0060', 'name': \"Denis d'Halicarnasse\"}, 'suetone': {'birth': '0069', 'name': 'Suétone'}, 's-paul': {'birth': '?0000', 'name': '\\u2028Paul (saint)\\u2028'}, 'aulus': {'birth': '0123', 'name': '\\u2028 Aulu-Gelle\\u2028 '}, 'plaute': {'birth': '-0254', 'name': 'Plaute'}, 'zenon': {'birth': '0430', 'name': 'Zénon'}, 'platon': {'birth': '-0427', 'name': 'Platon'}, 'solon': {'birth': '-0640', 'name': 'Solon'}, 'basile': {'birth': '0329', 'name': 'Basile de Césarée (saint)'}, 'leon-pape': {'birth': '?0390', 'name': ' Léon Ier'}, 'ambroise': {'birth': '0340', 'name': 'Ambroise (saint)'}, 'theophile': {'birth': '?0500', 'name': 'Théophile Antecessor'}, 'maximien': {'birth': '0250', 'name': 'Maximien'}, 'anast': {'birth': '0431', 'name': 'Anastase I'}, 'greg-3': {'birth': '0540', 'name': ' Grégoire III'}, 'cassiod': {'birth': '0490', 'name': 'Cassiodore'}, 'firmicus': {'birth': '?0300', 'name': None}, 'clem-alex': {'birth': '0150', 'name': \"Clément d'Alexandrie\"}, 'xenophon': {'birth': '-0430', 'name': 'Xénophon'}, 'plutarque': {'birth': '0046', 'name': 'Plutarque'}, 'hypocrate': {'birth': '-0460', 'name': 'Hippocrate'}, 'hermogenien': {'birth': '?0200', 'name': 'Hermogénien'}, 'celse': {'birth': '?0100', 'name': 'Celse'}, 'ammian': {'birth': '0330', 'name': None}, 'herodote': {'birth': '-0484', 'name': 'Hérodote'}, 'paulus': {'birth': '?0100', 'name': 'Paulus'}, 'appo': {'birth': '0431', 'name': None}, 'ennius': {'birth': '-0239', 'name': None}, 'catulle': {'birth': '-0087', 'name': 'Catulle'}, 'neratius': {'birth': '?0000', 'name': None}, 'lycurgue': {'birth': '-0390', 'name': 'Lycurgue'}, 'silius': {'birth': '0025', 'name': None}, 'caton': {'birth': '-0090', 'name': 'Caton'}, 'aristophane': {'birth': '-0445', 'name': 'Aristophane'}, 'labeon': {'birth': '-0050', 'name': 'Labéon'}, 'clement-1': {'birth': '?0000', 'name': 'Clément I'}, 'pompeius': {'birth': '-0075', 'name': 'Pompée'}, 'siculus': {'birth': '?0100', 'name': 'Siculus Flaccus\\xa0'}, 'appius-claudius': {'birth': '?-0399', 'name': None}, 'severe': {'birth': '0208', 'name': None}, 'inno-1': {'birth': '?0300', 'name': 'Innocent I'}, 'velleius': {'birth': '-0019', 'name': None}, 'pomponius': {'birth': '?0100', 'name': None}}\n"
     ]
    }
   ],
   "source": [
    "authors = {}\n",
    "\n",
    "def extract(witness, path):\n",
    "    print(witness)\n",
    "    \n",
    "    liste = ET.Element(witness)\n",
    "    \n",
    "    with open(path) as filein:\n",
    "        tree = ET.parse(filein)\n",
    "        root = tree.getroot()\n",
    "        \n",
    "        for author in tqdm(root.findall('.//{http://www.tei-c.org/ns/1.0}listPerson/{http://www.tei-c.org/ns/1.0}person')):\n",
    "            fullbirth = author.find('.//{http://www.tei-c.org/ns/1.0}birth')\n",
    "            \n",
    "            try:\n",
    "                ident = author.get(\"{http://www.w3.org/XML/1998/namespace}id\")\n",
    "                if ident not in authors.keys():\n",
    "                    authors[ident] = {}\n",
    "            \n",
    "                    try:\n",
    "                        if \"when\" in fullbirth.attrib.keys():\n",
    "                            authors[ident][\"birth\"] = fullbirth.get(\"when\")\n",
    "                        else:\n",
    "                            authors[ident][\"birth\"] = \"?\" + fullbirth.get(\"notBefore\")\n",
    "                            \n",
    "                    except:\n",
    "                        authors[ident][\"birth\"] = \"none\"\n",
    "                        liste.append(author)\n",
    "\n",
    "                    try:\n",
    "                        lg = {}\n",
    "                        for name in author.findall('.//{http://www.tei-c.org/ns/1.0}persName'):\n",
    "                            try:\n",
    "                                lg[name.get(\"{http://www.w3.org/XML/1998/namespace}lang\")] = name.find(\"./{http://www.tei-c.org/ns/1.0}surname\").text + \", \" + name.find(\"./{http://www.tei-c.org/ns/1.0}firstname\").text\n",
    "                            except:\n",
    "                                lg[name.get(\"{http://www.w3.org/XML/1998/namespace}lang\")] = name.text\n",
    "                        if \"fr\" in lg.keys():\n",
    "                            authors[ident][\"name\"] = lg[\"fr\"]\n",
    "                        elif \"la\" in lg.keys():\n",
    "                            authors[ident][\"name\"] = lg[\"la\"]\n",
    "                        else:\n",
    "                            authors[ident][\"name\"] = lg[\"en\"]\n",
    "                            \n",
    "                    except:\n",
    "                        authors[ident][\"name\"] = \"none\"\n",
    "                        liste.append(author)\n",
    "            except:\n",
    "                continue\n",
    "    \n",
    "    return liste\n",
    "            \n",
    "\n",
    "listroot = ET.Element(\"people\")    \n",
    "\n",
    "for witness in witnesses:\n",
    "    fullpath = binpath + witness + einpath\n",
    "    \n",
    "    listroot.append(extract(witness, fullpath))\n",
    "\n",
    "final = {}\n",
    "\n",
    "for author in authors.keys():\n",
    "    \n",
    "    if \"?\" in authors[author][\"birth\"]:\n",
    "        birth = authors[author][\"birth\"].replace(\"?\",\"\")\n",
    "    else:\n",
    "        birth = authors[author][\"birth\"]\n",
    "    try:\n",
    "        if int(birth) < 550:\n",
    "            final[author] = authors[author]\n",
    "    except:\n",
    "        print(authors[author])\n",
    "\n",
    "print(final)\n",
    "\n",
    "with open(checklist, \"w\") as failures:\n",
    "    a_ecrire = ET.tostring(listroot, encoding=\"unicode\", method=\"xml\")\n",
    "    failures.write(a_ecrire)"
   ]
  },
  {
   "cell_type": "code",
   "execution_count": null,
   "id": "f1be9cd1",
   "metadata": {},
   "outputs": [],
   "source": []
  },
  {
   "cell_type": "code",
   "execution_count": null,
   "id": "f4b8e3dd",
   "metadata": {},
   "outputs": [],
   "source": []
  }
 ],
 "metadata": {
  "kernelspec": {
   "display_name": "Python 3 (ipykernel)",
   "language": "python",
   "name": "python3"
  },
  "language_info": {
   "codemirror_mode": {
    "name": "ipython",
    "version": 3
   },
   "file_extension": ".py",
   "mimetype": "text/x-python",
   "name": "python",
   "nbconvert_exporter": "python",
   "pygments_lexer": "ipython3",
   "version": "3.9.7"
  }
 },
 "nbformat": 4,
 "nbformat_minor": 5
}
